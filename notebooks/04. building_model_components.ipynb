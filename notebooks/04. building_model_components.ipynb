{
 "cells": [
  {
   "cell_type": "code",
   "execution_count": 1,
   "id": "catholic-peoples",
   "metadata": {},
   "outputs": [],
   "source": [
    "%load_ext autoreload\n",
    "%autoreload 2\n",
    "import sys; sys.path.insert(0, \"..\")"
   ]
  },
  {
   "cell_type": "markdown",
   "id": "collected-shanghai",
   "metadata": {},
   "source": [
    "# Building model components\n",
    "\n",
    "* In this section we shall look at and discuss various components of our pipeline"
   ]
  },
  {
   "cell_type": "markdown",
   "id": "coated-walnut",
   "metadata": {},
   "source": [
    "# Dataloader\n",
    "\n",
    "* This bad boy is used to convert our data into inputs suitable for the model\n",
    "* Details and comments can be found in \"core/dataset.py\" file\n",
    "* Feel free to play around and see what's up"
   ]
  },
  {
   "cell_type": "code",
   "execution_count": 2,
   "id": "infrared-cream",
   "metadata": {},
   "outputs": [],
   "source": [
    "import joblib\n",
    "\n",
    "from core.config import config\n",
    "from core.dataset import NCBIDataset\n",
    "x, y = joblib.load(\"../data/k-fold/fold1/train.bin\")\n",
    "ds = NCBIDataset(x,y)"
   ]
  },
  {
   "cell_type": "code",
   "execution_count": 3,
   "id": "recent-athens",
   "metadata": {},
   "outputs": [
    {
     "name": "stdout",
     "output_type": "stream",
     "text": [
      "Normal feline beta - glucuronidase cDNA was cloned and characterized , and amplified from affected cat fibroblasts by reverse transcription coupled polymerase chain reaction .\n",
      "----\n",
      "{'input_ids': tensor([  101, 14508,   175, 24247,  1162, 11933,   118,   176,  7535, 10182,\n",
      "         3484, 23358,  1162,   172,  2137, 11185,  1108, 22121,  1181,  1105,\n",
      "         6858,   117,  1105,  1821, 18580,  1121,  4634,  5855, 20497, 12725,\n",
      "        27184,  1116,  1118,  7936, 15416, 11646, 21176,  6530,  4129,  3943,\n",
      "          119,   102,     0,     0,     0,     0,     0,     0,     0,     0,\n",
      "            0,     0,     0,     0,     0,     0,     0,     0,     0,     0,\n",
      "            0,     0,     0,     0,     0,     0,     0,     0,     0,     0,\n",
      "            0,     0,     0,     0,     0,     0,     0,     0,     0,     0,\n",
      "            0,     0,     0,     0,     0,     0,     0,     0,     0,     0,\n",
      "            0,     0,     0,     0,     0,     0,     0,     0,     0,     0,\n",
      "            0,     0,     0,     0,     0,     0,     0,     0,     0,     0,\n",
      "            0,     0,     0,     0,     0,     0,     0,     0,     0,     0,\n",
      "            0,     0,     0,     0,     0,     0,     0,     0,     0,     0,\n",
      "            0,     0,     0,     0,     0,     0,     0,     0,     0,     0,\n",
      "            0,     0,     0,     0,     0,     0,     0,     0,     0,     0,\n",
      "            0,     0,     0,     0,     0,     0,     0,     0,     0,     0,\n",
      "            0,     0,     0,     0,     0,     0,     0,     0,     0,     0,\n",
      "            0,     0,     0,     0,     0,     0,     0,     0,     0,     0]), 'attention_mask': tensor([1, 1, 1, 1, 1, 1, 1, 1, 1, 1, 1, 1, 1, 1, 1, 1, 1, 1, 1, 1, 1, 1, 1, 1,\n",
      "        1, 1, 1, 1, 1, 1, 1, 1, 1, 1, 1, 1, 1, 1, 1, 1, 1, 1, 0, 0, 0, 0, 0, 0,\n",
      "        0, 0, 0, 0, 0, 0, 0, 0, 0, 0, 0, 0, 0, 0, 0, 0, 0, 0, 0, 0, 0, 0, 0, 0,\n",
      "        0, 0, 0, 0, 0, 0, 0, 0, 0, 0, 0, 0, 0, 0, 0, 0, 0, 0, 0, 0, 0, 0, 0, 0,\n",
      "        0, 0, 0, 0, 0, 0, 0, 0, 0, 0, 0, 0, 0, 0, 0, 0, 0, 0, 0, 0, 0, 0, 0, 0,\n",
      "        0, 0, 0, 0, 0, 0, 0, 0, 0, 0, 0, 0, 0, 0, 0, 0, 0, 0, 0, 0, 0, 0, 0, 0,\n",
      "        0, 0, 0, 0, 0, 0, 0, 0, 0, 0, 0, 0, 0, 0, 0, 0, 0, 0, 0, 0, 0, 0, 0, 0,\n",
      "        0, 0, 0, 0, 0, 0, 0, 0, 0, 0, 0, 0]), 'targets': tensor([-100,    2,    2,    2,    2,    2,    2,    2,    2,    2,    2,    2,\n",
      "           2,    2,    2,    2,    2,    2,    2,    2,    2,    2,    2,    2,\n",
      "           2,    2,    2,    2,    2,    2,    2,    2,    2,    2,    2,    2,\n",
      "           2,    2,    2,    2,    2, -100,    0,    0,    0,    0,    0,    0,\n",
      "           0,    0,    0,    0,    0,    0,    0,    0,    0,    0,    0,    0,\n",
      "           0,    0,    0,    0,    0,    0,    0,    0,    0,    0,    0,    0,\n",
      "           0,    0,    0,    0,    0,    0,    0,    0,    0,    0,    0,    0,\n",
      "           0,    0,    0,    0,    0,    0,    0,    0,    0,    0,    0,    0,\n",
      "           0,    0,    0,    0,    0,    0,    0,    0,    0,    0,    0,    0,\n",
      "           0,    0,    0,    0,    0,    0,    0,    0,    0,    0,    0,    0,\n",
      "           0,    0,    0,    0,    0,    0,    0,    0,    0,    0,    0,    0,\n",
      "           0,    0,    0,    0,    0,    0,    0,    0,    0,    0,    0,    0,\n",
      "           0,    0,    0,    0,    0,    0,    0,    0,    0,    0,    0,    0,\n",
      "           0,    0,    0,    0,    0,    0,    0,    0,    0,    0,    0,    0,\n",
      "           0,    0,    0,    0,    0,    0,    0,    0,    0,    0,    0,    0])}\n"
     ]
    }
   ],
   "source": [
    "def foo(item):\n",
    "    sample_x = x[item]; sample_y = y[item]; out = ds[item] \n",
    "    print(\" \".join(sample_x))\n",
    "    assert all(i.shape[0]== config[\"tokenizer\"][\"MAX_LEN\"] for i in out.values())\n",
    "    print(\"----\"); print(out)\n",
    "foo(420)         "
   ]
  },
  {
   "cell_type": "markdown",
   "id": "alive-bridal",
   "metadata": {},
   "source": [
    "# Building the model\n",
    "* for our model we shall pick distbert, a variation of bert that was created using [distilation](https://en.wikipedia.org/wiki/Knowledge_distillation)\n",
    "* Distil bert is much faster to [train and has greater inference speed](https://arxiv.org/pdf/1910.01108.pdf), so it's a good option as our baseline transfer model, or if you are plan to make this puppy work in production and you/your company does not have the hardware capabilities of Google, kek.\n",
    "* We are going to attach a simple linear layer on top of bert and use it to get class logits for each token in our input sequence.\n",
    "* Additional information can be found in \"core/model.py\" and \"core/active_loss.py\""
   ]
  },
  {
   "cell_type": "code",
   "execution_count": 4,
   "id": "arranged-rebel",
   "metadata": {},
   "outputs": [],
   "source": [
    "from core.model import NER "
   ]
  },
  {
   "cell_type": "code",
   "execution_count": 12,
   "id": "prerequisite-barbados",
   "metadata": {},
   "outputs": [
    {
     "name": "stdout",
     "output_type": "stream",
     "text": [
      "torch.Size([1, 180, 3])\n",
      "1.1588736772537231\n"
     ]
    }
   ],
   "source": [
    "model = NER(3)\n",
    "ds = NCBIDataset(x,y, loss_plus = True)\n",
    "tmp = ds[410]\n",
    "_ , loss = model({k :v.unsqueeze(0) for k, v in tmp.items()})\n",
    "print(_.shape)\n",
    "print(loss.item())"
   ]
  },
  {
   "cell_type": "markdown",
   "id": "stone-transaction",
   "metadata": {},
   "source": [
    "# Building the training script\n",
    "\n",
    "* The details and comments regarding the training procedure can be found in \"core/train.py\" and \"core/train_helpers.py\". Additional info can be found in config\n",
    "* Let's load and train to very reproducible behaviour\n",
    "* <b>NOTE:</b> depending on your platform the output provided here may change, but the following  cells should produce similar and ideally identical output"
   ]
  },
  {
   "cell_type": "code",
   "execution_count": 9,
   "id": "explicit-employee",
   "metadata": {},
   "outputs": [],
   "source": [
    "from core.train import train_ner"
   ]
  },
  {
   "cell_type": "code",
   "execution_count": 10,
   "id": "typical-parade",
   "metadata": {},
   "outputs": [
    {
     "name": "stderr",
     "output_type": "stream",
     "text": [
      "100%|██████████| 409/409 [00:38<00:00, 10.76it/s]\n",
      "100%|██████████| 23/23 [00:01<00:00, 17.60it/s]\n"
     ]
    },
    {
     "name": "stdout",
     "output_type": "stream",
     "text": [
      "EPOCH: 1 | TRAIN LOSS: 0.1487 | VAL LOSS: 0.0686\n"
     ]
    },
    {
     "name": "stderr",
     "output_type": "stream",
     "text": [
      "100%|██████████| 409/409 [00:38<00:00, 10.73it/s]\n",
      "100%|██████████| 23/23 [00:01<00:00, 17.69it/s]\n",
      "  0%|          | 0/409 [00:00<?, ?it/s]"
     ]
    },
    {
     "name": "stdout",
     "output_type": "stream",
     "text": [
      "EPOCH: 2 | TRAIN LOSS: 0.0465 | VAL LOSS: 0.0691\n"
     ]
    },
    {
     "name": "stderr",
     "output_type": "stream",
     "text": [
      "100%|██████████| 409/409 [00:38<00:00, 10.71it/s]\n",
      "100%|██████████| 23/23 [00:01<00:00, 16.96it/s]\n",
      "  0%|          | 0/409 [00:00<?, ?it/s]"
     ]
    },
    {
     "name": "stdout",
     "output_type": "stream",
     "text": [
      "EPOCH: 3 | TRAIN LOSS: 0.0222 | VAL LOSS: 0.0747\n"
     ]
    },
    {
     "name": "stderr",
     "output_type": "stream",
     "text": [
      "100%|██████████| 409/409 [00:38<00:00, 10.53it/s]\n",
      "100%|██████████| 23/23 [00:01<00:00, 17.37it/s]"
     ]
    },
    {
     "name": "stdout",
     "output_type": "stream",
     "text": [
      "EPOCH: 4 | TRAIN LOSS: 0.0139 | VAL LOSS: 0.0761\n",
      "stopping early, val loss didn't improve for 3 epochs\n"
     ]
    },
    {
     "name": "stderr",
     "output_type": "stream",
     "text": [
      "\n"
     ]
    }
   ],
   "source": [
    "best_loss = train_ner(\"../data/k-fold\", model_path=\"../data/model.bin\")"
   ]
  },
  {
   "cell_type": "code",
   "execution_count": 11,
   "id": "varied-polyester",
   "metadata": {},
   "outputs": [
    {
     "name": "stderr",
     "output_type": "stream",
     "text": [
      "100%|██████████| 409/409 [00:39<00:00, 10.24it/s]\n",
      "100%|██████████| 23/23 [00:01<00:00, 16.71it/s]\n"
     ]
    },
    {
     "name": "stdout",
     "output_type": "stream",
     "text": [
      "EPOCH: 1 | TRAIN LOSS: 0.1487 | VAL LOSS: 0.0686\n"
     ]
    },
    {
     "name": "stderr",
     "output_type": "stream",
     "text": [
      "100%|██████████| 409/409 [00:40<00:00, 10.04it/s]\n",
      "100%|██████████| 23/23 [00:01<00:00, 16.11it/s]\n",
      "  0%|          | 0/409 [00:00<?, ?it/s]"
     ]
    },
    {
     "name": "stdout",
     "output_type": "stream",
     "text": [
      "EPOCH: 2 | TRAIN LOSS: 0.0465 | VAL LOSS: 0.0691\n"
     ]
    },
    {
     "name": "stderr",
     "output_type": "stream",
     "text": [
      "100%|██████████| 409/409 [00:39<00:00, 10.35it/s]\n",
      "100%|██████████| 23/23 [00:01<00:00, 17.21it/s]\n",
      "  0%|          | 0/409 [00:00<?, ?it/s]"
     ]
    },
    {
     "name": "stdout",
     "output_type": "stream",
     "text": [
      "EPOCH: 3 | TRAIN LOSS: 0.0222 | VAL LOSS: 0.0747\n"
     ]
    },
    {
     "name": "stderr",
     "output_type": "stream",
     "text": [
      "100%|██████████| 409/409 [00:38<00:00, 10.67it/s]\n",
      "100%|██████████| 23/23 [00:01<00:00, 17.22it/s]"
     ]
    },
    {
     "name": "stdout",
     "output_type": "stream",
     "text": [
      "EPOCH: 4 | TRAIN LOSS: 0.0139 | VAL LOSS: 0.0761\n",
      "stopping early, val loss didn't improve for 3 epochs\n"
     ]
    },
    {
     "name": "stderr",
     "output_type": "stream",
     "text": [
      "\n"
     ]
    }
   ],
   "source": [
    "best_loss = train_ner(\"../data/k-fold\", model_path=\"../data/model.bin\")"
   ]
  },
  {
   "cell_type": "markdown",
   "id": "strange-symposium",
   "metadata": {},
   "source": [
    "---"
   ]
  }
 ],
 "metadata": {
  "kernelspec": {
   "display_name": "Python 3",
   "language": "python",
   "name": "python3"
  },
  "language_info": {
   "codemirror_mode": {
    "name": "ipython",
    "version": 3
   },
   "file_extension": ".py",
   "mimetype": "text/x-python",
   "name": "python",
   "nbconvert_exporter": "python",
   "pygments_lexer": "ipython3",
   "version": "3.8.6"
  }
 },
 "nbformat": 4,
 "nbformat_minor": 5
}
