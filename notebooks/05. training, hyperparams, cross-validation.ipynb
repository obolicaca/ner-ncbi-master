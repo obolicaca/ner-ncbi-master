{
 "cells": [
  {
   "cell_type": "code",
   "execution_count": 1,
   "id": "polar-peace",
   "metadata": {},
   "outputs": [],
   "source": [
    "%load_ext autoreload\n",
    "%autoreload 2\n",
    "import sys; sys.path.insert(0, \"..\")"
   ]
  },
  {
   "cell_type": "markdown",
   "id": "black-character",
   "metadata": {},
   "source": [
    "# Training, hyperparams and cross-validation\n",
    "* In this section we shall:\n",
    "* Train the model with different hyperparameters\n",
    "* Do cross-validation on our final selected model "
   ]
  },
  {
   "cell_type": "markdown",
   "id": "narrow-namibia",
   "metadata": {},
   "source": [
    "# Hyperparameter selection \n",
    "\n",
    "* Training neural networks can take up quite some time.\n",
    "* If the training is inexpensive, we would do something like a grid, random or bayesian search\n",
    "* Heres a good [resource](https://www.youtube.com/watch?v=5nYqK-HaoKY&t=8s) for that\n",
    "* However, let us asumme that training IS expensive, and for sake of time let's just use hyperparameters which\n",
    "* We will take suggested params from [here](https://wandb.ai/jack-morris/david-vs-goliath/reports/Does-Model-Size-Matter-A-Comparison-of-BERT-and-DistilBERT--VmlldzoxMDUxNzU), which are quite similar to params proposed by original bert authors"
   ]
  },
  {
   "cell_type": "code",
   "execution_count": 2,
   "id": "wanted-award",
   "metadata": {},
   "outputs": [],
   "source": [
    "from core.train import train_ner"
   ]
  },
  {
   "cell_type": "code",
   "execution_count": 3,
   "id": "infrared-nursing",
   "metadata": {},
   "outputs": [],
   "source": [
    "hyper_params = [\n",
    "    {\"batch_size\" : 16, \"learning_rate\" : 5e-5, \"drop\" :0.3},\n",
    "    {\"batch_size\" : 16, \"learning_rate\" : 3e-5, \"drop\" :0.3},\n",
    "    {\"batch_size\" : 16, \"learning_rate\" : 2e-5, \"drop\" :0.3},\n",
    "    {\"batch_size\" : 16, \"learning_rate\" : 5e-5, \"drop\" :0.5},\n",
    "    {\"batch_size\" : 16, \"learning_rate\" : 3e-5, \"drop\" :0.5},\n",
    "    {\"batch_size\" : 16, \"learning_rate\" : 2e-5, \"drop\" :0.5},\n",
    "    {\"batch_size\" : 32, \"learning_rate\" : 5e-5, \"drop\" :0.3},\n",
    "    {\"batch_size\" : 32, \"learning_rate\" : 3e-5, \"drop\" :0.3},\n",
    "    {\"batch_size\" : 32, \"learning_rate\" : 2e-5, \"drop\" :0.3},\n",
    "    {\"batch_size\" : 32, \"learning_rate\" : 5e-5, \"drop\" :0.5},\n",
    "    {\"batch_size\" : 32, \"learning_rate\" : 3e-5, \"drop\" :0.5},\n",
    "    {\"batch_size\" : 32, \"learning_rate\" : 2e-5, \"drop\" :0.5}   \n",
    "] "
   ]
  },
  {
   "cell_type": "code",
   "execution_count": 5,
   "id": "jewish-running",
   "metadata": {},
   "outputs": [
    {
     "data": {
      "text/plain": [
       "'\\nbest_loss = train_ner(\\n    \"../data/k-fold\",\\n\\n  model_path=\"../data/model.bin\"\\n)\\n'"
      ]
     },
     "execution_count": 5,
     "metadata": {},
     "output_type": "execute_result"
    }
   ],
   "source": [
    "\"\"\"\n",
    "best_loss = train_ner(\n",
    "    \"../data/k-fold\",\n",
    "\n",
    "  model_path=\"../data/model.bin\"\n",
    ")\n",
    "\"\"\""
   ]
  },
  {
   "cell_type": "markdown",
   "id": "enclosed-surfing",
   "metadata": {},
   "source": [
    "You may want to grab a cup of cofee or something :D"
   ]
  },
  {
   "cell_type": "code",
   "execution_count": 4,
   "id": "hybrid-elder",
   "metadata": {},
   "outputs": [
    {
     "name": "stdout",
     "output_type": "stream",
     "text": [
      "====================\n",
      "====================\n",
      "====================\n",
      "TRAINING WITH PARAMS:{'batch_size': 16, 'learning_rate': 5e-05, 'drop': 0.3}\n",
      "====================\n",
      "====================\n",
      "====================\n"
     ]
    },
    {
     "name": "stderr",
     "output_type": "stream",
     "text": [
      "100%|██████████| 409/409 [00:38<00:00, 10.57it/s]\n",
      "100%|██████████| 23/23 [00:01<00:00, 17.75it/s]\n"
     ]
    },
    {
     "name": "stdout",
     "output_type": "stream",
     "text": [
      "EPOCH: 1 | TRAIN LOSS: 0.1292 | VAL LOSS: 0.0675\n"
     ]
    },
    {
     "name": "stderr",
     "output_type": "stream",
     "text": [
      "100%|██████████| 409/409 [00:39<00:00, 10.24it/s]\n",
      "100%|██████████| 23/23 [00:01<00:00, 17.01it/s]\n",
      "  0%|          | 0/409 [00:00<?, ?it/s]"
     ]
    },
    {
     "name": "stdout",
     "output_type": "stream",
     "text": [
      "EPOCH: 2 | TRAIN LOSS: 0.0404 | VAL LOSS: 0.0716\n"
     ]
    },
    {
     "name": "stderr",
     "output_type": "stream",
     "text": [
      "100%|██████████| 409/409 [00:38<00:00, 10.68it/s]\n",
      "100%|██████████| 23/23 [00:01<00:00, 17.68it/s]\n",
      "  0%|          | 0/409 [00:00<?, ?it/s]"
     ]
    },
    {
     "name": "stdout",
     "output_type": "stream",
     "text": [
      "EPOCH: 3 | TRAIN LOSS: 0.0178 | VAL LOSS: 0.0705\n"
     ]
    },
    {
     "name": "stderr",
     "output_type": "stream",
     "text": [
      "100%|██████████| 409/409 [00:38<00:00, 10.72it/s]\n",
      "100%|██████████| 23/23 [00:01<00:00, 16.30it/s]\n"
     ]
    },
    {
     "name": "stdout",
     "output_type": "stream",
     "text": [
      "EPOCH: 4 | TRAIN LOSS: 0.0106 | VAL LOSS: 0.0707\n",
      "stopping early, val loss didn't improve for 3 epochs\n",
      "====================\n",
      "====================\n",
      "====================\n",
      "TRAINING WITH PARAMS:{'batch_size': 16, 'learning_rate': 3e-05, 'drop': 0.3}\n",
      "====================\n",
      "====================\n",
      "====================\n"
     ]
    },
    {
     "name": "stderr",
     "output_type": "stream",
     "text": [
      "100%|██████████| 409/409 [00:39<00:00, 10.49it/s]\n",
      "100%|██████████| 23/23 [00:01<00:00, 17.06it/s]\n"
     ]
    },
    {
     "name": "stdout",
     "output_type": "stream",
     "text": [
      "EPOCH: 1 | TRAIN LOSS: 0.1489 | VAL LOSS: 0.0691\n"
     ]
    },
    {
     "name": "stderr",
     "output_type": "stream",
     "text": [
      "100%|██████████| 409/409 [00:39<00:00, 10.41it/s]\n",
      "100%|██████████| 23/23 [00:01<00:00, 17.57it/s]\n"
     ]
    },
    {
     "name": "stdout",
     "output_type": "stream",
     "text": [
      "EPOCH: 2 | TRAIN LOSS: 0.0463 | VAL LOSS: 0.0688\n"
     ]
    },
    {
     "name": "stderr",
     "output_type": "stream",
     "text": [
      "100%|██████████| 409/409 [00:39<00:00, 10.48it/s]\n",
      "100%|██████████| 23/23 [00:01<00:00, 17.17it/s]\n"
     ]
    },
    {
     "name": "stdout",
     "output_type": "stream",
     "text": [
      "EPOCH: 3 | TRAIN LOSS: 0.0227 | VAL LOSS: 0.0665\n"
     ]
    },
    {
     "name": "stderr",
     "output_type": "stream",
     "text": [
      "100%|██████████| 409/409 [00:39<00:00, 10.38it/s]\n",
      "100%|██████████| 23/23 [00:01<00:00, 16.93it/s]\n",
      "  0%|          | 0/409 [00:00<?, ?it/s]"
     ]
    },
    {
     "name": "stdout",
     "output_type": "stream",
     "text": [
      "EPOCH: 4 | TRAIN LOSS: 0.0140 | VAL LOSS: 0.0680\n"
     ]
    },
    {
     "name": "stderr",
     "output_type": "stream",
     "text": [
      "100%|██████████| 409/409 [00:38<00:00, 10.50it/s]\n",
      "100%|██████████| 23/23 [00:01<00:00, 16.87it/s]\n"
     ]
    },
    {
     "name": "stdout",
     "output_type": "stream",
     "text": [
      "EPOCH: 5 | TRAIN LOSS: 0.0080 | VAL LOSS: 0.0672\n",
      "====================\n",
      "====================\n",
      "====================\n",
      "TRAINING WITH PARAMS:{'batch_size': 16, 'learning_rate': 2e-05, 'drop': 0.3}\n",
      "====================\n",
      "====================\n",
      "====================\n"
     ]
    },
    {
     "name": "stderr",
     "output_type": "stream",
     "text": [
      "100%|██████████| 409/409 [00:39<00:00, 10.33it/s]\n",
      "100%|██████████| 23/23 [00:01<00:00, 16.76it/s]\n"
     ]
    },
    {
     "name": "stdout",
     "output_type": "stream",
     "text": [
      "EPOCH: 1 | TRAIN LOSS: 0.1662 | VAL LOSS: 0.0772\n"
     ]
    },
    {
     "name": "stderr",
     "output_type": "stream",
     "text": [
      "100%|██████████| 409/409 [00:39<00:00, 10.36it/s]\n",
      "100%|██████████| 23/23 [00:01<00:00, 17.33it/s]\n"
     ]
    },
    {
     "name": "stdout",
     "output_type": "stream",
     "text": [
      "EPOCH: 2 | TRAIN LOSS: 0.0541 | VAL LOSS: 0.0682\n"
     ]
    },
    {
     "name": "stderr",
     "output_type": "stream",
     "text": [
      "100%|██████████| 409/409 [00:40<00:00, 10.19it/s]\n",
      "100%|██████████| 23/23 [00:01<00:00, 16.54it/s]\n",
      "  0%|          | 0/409 [00:00<?, ?it/s]"
     ]
    },
    {
     "name": "stdout",
     "output_type": "stream",
     "text": [
      "EPOCH: 3 | TRAIN LOSS: 0.0299 | VAL LOSS: 0.0708\n"
     ]
    },
    {
     "name": "stderr",
     "output_type": "stream",
     "text": [
      "100%|██████████| 409/409 [00:40<00:00, 10.18it/s]\n",
      "100%|██████████| 23/23 [00:01<00:00, 17.60it/s]\n"
     ]
    },
    {
     "name": "stdout",
     "output_type": "stream",
     "text": [
      "EPOCH: 4 | TRAIN LOSS: 0.0201 | VAL LOSS: 0.0665\n"
     ]
    },
    {
     "name": "stderr",
     "output_type": "stream",
     "text": [
      "100%|██████████| 409/409 [00:40<00:00, 10.21it/s]\n",
      "100%|██████████| 23/23 [00:01<00:00, 17.61it/s]\n"
     ]
    },
    {
     "name": "stdout",
     "output_type": "stream",
     "text": [
      "EPOCH: 5 | TRAIN LOSS: 0.0133 | VAL LOSS: 0.0644\n",
      "====================\n",
      "====================\n",
      "====================\n",
      "TRAINING WITH PARAMS:{'batch_size': 16, 'learning_rate': 5e-05, 'drop': 0.5}\n",
      "====================\n",
      "====================\n",
      "====================\n"
     ]
    },
    {
     "name": "stderr",
     "output_type": "stream",
     "text": [
      "100%|██████████| 409/409 [00:38<00:00, 10.67it/s]\n",
      "100%|██████████| 23/23 [00:01<00:00, 17.37it/s]\n"
     ]
    },
    {
     "name": "stdout",
     "output_type": "stream",
     "text": [
      "EPOCH: 1 | TRAIN LOSS: 0.1318 | VAL LOSS: 0.0670\n"
     ]
    },
    {
     "name": "stderr",
     "output_type": "stream",
     "text": [
      "100%|██████████| 409/409 [00:39<00:00, 10.30it/s]\n",
      "100%|██████████| 23/23 [00:01<00:00, 16.35it/s]\n",
      "  0%|          | 0/409 [00:00<?, ?it/s]"
     ]
    },
    {
     "name": "stdout",
     "output_type": "stream",
     "text": [
      "EPOCH: 2 | TRAIN LOSS: 0.0423 | VAL LOSS: 0.0692\n"
     ]
    },
    {
     "name": "stderr",
     "output_type": "stream",
     "text": [
      "100%|██████████| 409/409 [00:41<00:00,  9.97it/s]\n",
      "100%|██████████| 23/23 [00:01<00:00, 16.44it/s]\n",
      "  0%|          | 0/409 [00:00<?, ?it/s]"
     ]
    },
    {
     "name": "stdout",
     "output_type": "stream",
     "text": [
      "EPOCH: 3 | TRAIN LOSS: 0.0180 | VAL LOSS: 0.0671\n"
     ]
    },
    {
     "name": "stderr",
     "output_type": "stream",
     "text": [
      "100%|██████████| 409/409 [00:40<00:00,  9.98it/s]\n",
      "100%|██████████| 23/23 [00:01<00:00, 16.41it/s]\n"
     ]
    },
    {
     "name": "stdout",
     "output_type": "stream",
     "text": [
      "EPOCH: 4 | TRAIN LOSS: 0.0097 | VAL LOSS: 0.0708\n",
      "stopping early, val loss didn't improve for 3 epochs\n",
      "====================\n",
      "====================\n",
      "====================\n",
      "TRAINING WITH PARAMS:{'batch_size': 16, 'learning_rate': 3e-05, 'drop': 0.5}\n",
      "====================\n",
      "====================\n",
      "====================\n"
     ]
    },
    {
     "name": "stderr",
     "output_type": "stream",
     "text": [
      "100%|██████████| 409/409 [00:41<00:00,  9.92it/s]\n",
      "100%|██████████| 23/23 [00:01<00:00, 16.13it/s]\n"
     ]
    },
    {
     "name": "stdout",
     "output_type": "stream",
     "text": [
      "EPOCH: 1 | TRAIN LOSS: 0.1526 | VAL LOSS: 0.0699\n"
     ]
    },
    {
     "name": "stderr",
     "output_type": "stream",
     "text": [
      "100%|██████████| 409/409 [00:40<00:00, 10.14it/s]\n",
      "100%|██████████| 23/23 [00:01<00:00, 16.06it/s]\n"
     ]
    },
    {
     "name": "stdout",
     "output_type": "stream",
     "text": [
      "EPOCH: 2 | TRAIN LOSS: 0.0470 | VAL LOSS: 0.0689\n"
     ]
    },
    {
     "name": "stderr",
     "output_type": "stream",
     "text": [
      "100%|██████████| 409/409 [00:40<00:00, 10.03it/s]\n",
      "100%|██████████| 23/23 [00:01<00:00, 16.61it/s]\n"
     ]
    },
    {
     "name": "stdout",
     "output_type": "stream",
     "text": [
      "EPOCH: 3 | TRAIN LOSS: 0.0231 | VAL LOSS: 0.0688\n"
     ]
    },
    {
     "name": "stderr",
     "output_type": "stream",
     "text": [
      "100%|██████████| 409/409 [00:39<00:00, 10.47it/s]\n",
      "100%|██████████| 23/23 [00:01<00:00, 16.69it/s]\n",
      "  0%|          | 0/409 [00:00<?, ?it/s]"
     ]
    },
    {
     "name": "stdout",
     "output_type": "stream",
     "text": [
      "EPOCH: 4 | TRAIN LOSS: 0.0142 | VAL LOSS: 0.0700\n"
     ]
    },
    {
     "name": "stderr",
     "output_type": "stream",
     "text": [
      "100%|██████████| 409/409 [00:40<00:00, 10.12it/s]\n",
      "100%|██████████| 23/23 [00:01<00:00, 16.16it/s]\n"
     ]
    },
    {
     "name": "stdout",
     "output_type": "stream",
     "text": [
      "EPOCH: 5 | TRAIN LOSS: 0.0080 | VAL LOSS: 0.0693\n",
      "====================\n",
      "====================\n",
      "====================\n",
      "TRAINING WITH PARAMS:{'batch_size': 16, 'learning_rate': 2e-05, 'drop': 0.5}\n",
      "====================\n",
      "====================\n",
      "====================\n"
     ]
    },
    {
     "name": "stderr",
     "output_type": "stream",
     "text": [
      "100%|██████████| 409/409 [00:39<00:00, 10.35it/s]\n",
      "100%|██████████| 23/23 [00:01<00:00, 16.94it/s]\n"
     ]
    },
    {
     "name": "stdout",
     "output_type": "stream",
     "text": [
      "EPOCH: 1 | TRAIN LOSS: 0.1710 | VAL LOSS: 0.0787\n"
     ]
    },
    {
     "name": "stderr",
     "output_type": "stream",
     "text": [
      "100%|██████████| 409/409 [00:39<00:00, 10.23it/s]\n",
      "100%|██████████| 23/23 [00:01<00:00, 15.81it/s]\n"
     ]
    },
    {
     "name": "stdout",
     "output_type": "stream",
     "text": [
      "EPOCH: 2 | TRAIN LOSS: 0.0556 | VAL LOSS: 0.0692\n"
     ]
    },
    {
     "name": "stderr",
     "output_type": "stream",
     "text": [
      "100%|██████████| 409/409 [00:40<00:00,  9.99it/s]\n",
      "100%|██████████| 23/23 [00:01<00:00, 16.18it/s]\n",
      "  0%|          | 0/409 [00:00<?, ?it/s]"
     ]
    },
    {
     "name": "stdout",
     "output_type": "stream",
     "text": [
      "EPOCH: 3 | TRAIN LOSS: 0.0310 | VAL LOSS: 0.0725\n"
     ]
    },
    {
     "name": "stderr",
     "output_type": "stream",
     "text": [
      "100%|██████████| 409/409 [00:39<00:00, 10.43it/s]\n",
      "100%|██████████| 23/23 [00:01<00:00, 15.89it/s]\n"
     ]
    },
    {
     "name": "stdout",
     "output_type": "stream",
     "text": [
      "EPOCH: 4 | TRAIN LOSS: 0.0209 | VAL LOSS: 0.0686\n"
     ]
    },
    {
     "name": "stderr",
     "output_type": "stream",
     "text": [
      "100%|██████████| 409/409 [00:41<00:00,  9.95it/s]\n",
      "100%|██████████| 23/23 [00:01<00:00, 16.40it/s]\n"
     ]
    },
    {
     "name": "stdout",
     "output_type": "stream",
     "text": [
      "EPOCH: 5 | TRAIN LOSS: 0.0140 | VAL LOSS: 0.0661\n",
      "====================\n",
      "====================\n",
      "====================\n",
      "TRAINING WITH PARAMS:{'batch_size': 32, 'learning_rate': 5e-05, 'drop': 0.3}\n",
      "====================\n",
      "====================\n",
      "====================\n"
     ]
    },
    {
     "name": "stderr",
     "output_type": "stream",
     "text": [
      "100%|██████████| 205/205 [00:35<00:00,  5.76it/s]\n",
      "100%|██████████| 12/12 [00:01<00:00,  8.50it/s]\n"
     ]
    },
    {
     "name": "stdout",
     "output_type": "stream",
     "text": [
      "EPOCH: 1 | TRAIN LOSS: 0.1685 | VAL LOSS: 0.0754\n"
     ]
    },
    {
     "name": "stderr",
     "output_type": "stream",
     "text": [
      "100%|██████████| 205/205 [00:34<00:00,  5.89it/s]\n",
      "100%|██████████| 12/12 [00:01<00:00,  8.29it/s]\n"
     ]
    },
    {
     "name": "stdout",
     "output_type": "stream",
     "text": [
      "EPOCH: 2 | TRAIN LOSS: 0.0489 | VAL LOSS: 0.0676\n"
     ]
    },
    {
     "name": "stderr",
     "output_type": "stream",
     "text": [
      "100%|██████████| 205/205 [00:36<00:00,  5.68it/s]\n",
      "100%|██████████| 12/12 [00:01<00:00,  8.48it/s]\n"
     ]
    },
    {
     "name": "stdout",
     "output_type": "stream",
     "text": [
      "EPOCH: 3 | TRAIN LOSS: 0.0260 | VAL LOSS: 0.0654\n"
     ]
    },
    {
     "name": "stderr",
     "output_type": "stream",
     "text": [
      "100%|██████████| 205/205 [00:37<00:00,  5.53it/s]\n",
      "100%|██████████| 12/12 [00:01<00:00,  8.58it/s]\n"
     ]
    },
    {
     "name": "stdout",
     "output_type": "stream",
     "text": [
      "EPOCH: 4 | TRAIN LOSS: 0.0140 | VAL LOSS: 0.0654\n"
     ]
    },
    {
     "name": "stderr",
     "output_type": "stream",
     "text": [
      "100%|██████████| 205/205 [00:35<00:00,  5.73it/s]\n",
      "100%|██████████| 12/12 [00:01<00:00,  8.31it/s]\n"
     ]
    },
    {
     "name": "stdout",
     "output_type": "stream",
     "text": [
      "EPOCH: 5 | TRAIN LOSS: 0.0068 | VAL LOSS: 0.0686\n",
      "====================\n",
      "====================\n",
      "====================\n",
      "TRAINING WITH PARAMS:{'batch_size': 32, 'learning_rate': 3e-05, 'drop': 0.3}\n",
      "====================\n",
      "====================\n",
      "====================\n"
     ]
    },
    {
     "name": "stderr",
     "output_type": "stream",
     "text": [
      "100%|██████████| 205/205 [00:37<00:00,  5.47it/s]\n",
      "100%|██████████| 12/12 [00:01<00:00,  8.44it/s]\n"
     ]
    },
    {
     "name": "stdout",
     "output_type": "stream",
     "text": [
      "EPOCH: 1 | TRAIN LOSS: 0.1898 | VAL LOSS: 0.0811\n"
     ]
    },
    {
     "name": "stderr",
     "output_type": "stream",
     "text": [
      "100%|██████████| 205/205 [00:37<00:00,  5.52it/s]\n",
      "100%|██████████| 12/12 [00:01<00:00,  8.44it/s]\n",
      "  0%|          | 0/205 [00:00<?, ?it/s]"
     ]
    },
    {
     "name": "stdout",
     "output_type": "stream",
     "text": [
      "EPOCH: 2 | TRAIN LOSS: 0.0588 | VAL LOSS: 0.0826\n"
     ]
    },
    {
     "name": "stderr",
     "output_type": "stream",
     "text": [
      "100%|██████████| 205/205 [00:36<00:00,  5.55it/s]\n",
      "100%|██████████| 12/12 [00:01<00:00,  8.43it/s]\n"
     ]
    },
    {
     "name": "stdout",
     "output_type": "stream",
     "text": [
      "EPOCH: 3 | TRAIN LOSS: 0.0345 | VAL LOSS: 0.0609\n"
     ]
    },
    {
     "name": "stderr",
     "output_type": "stream",
     "text": [
      "100%|██████████| 205/205 [00:36<00:00,  5.55it/s]\n",
      "100%|██████████| 12/12 [00:01<00:00,  8.45it/s]\n",
      "  0%|          | 0/205 [00:00<?, ?it/s]"
     ]
    },
    {
     "name": "stdout",
     "output_type": "stream",
     "text": [
      "EPOCH: 4 | TRAIN LOSS: 0.0211 | VAL LOSS: 0.0614\n"
     ]
    },
    {
     "name": "stderr",
     "output_type": "stream",
     "text": [
      "100%|██████████| 205/205 [00:37<00:00,  5.49it/s]\n",
      "100%|██████████| 12/12 [00:01<00:00,  8.44it/s]\n"
     ]
    },
    {
     "name": "stdout",
     "output_type": "stream",
     "text": [
      "EPOCH: 5 | TRAIN LOSS: 0.0132 | VAL LOSS: 0.0643\n",
      "====================\n",
      "====================\n",
      "====================\n",
      "TRAINING WITH PARAMS:{'batch_size': 32, 'learning_rate': 2e-05, 'drop': 0.3}\n",
      "====================\n",
      "====================\n",
      "====================\n"
     ]
    },
    {
     "name": "stderr",
     "output_type": "stream",
     "text": [
      "100%|██████████| 205/205 [00:36<00:00,  5.55it/s]\n",
      "100%|██████████| 12/12 [00:01<00:00,  8.44it/s]\n"
     ]
    },
    {
     "name": "stdout",
     "output_type": "stream",
     "text": [
      "EPOCH: 1 | TRAIN LOSS: 0.2122 | VAL LOSS: 0.0913\n"
     ]
    },
    {
     "name": "stderr",
     "output_type": "stream",
     "text": [
      "100%|██████████| 205/205 [00:37<00:00,  5.54it/s]\n",
      "100%|██████████| 12/12 [00:01<00:00,  8.43it/s]\n"
     ]
    },
    {
     "name": "stdout",
     "output_type": "stream",
     "text": [
      "EPOCH: 2 | TRAIN LOSS: 0.0710 | VAL LOSS: 0.0897\n"
     ]
    },
    {
     "name": "stderr",
     "output_type": "stream",
     "text": [
      "100%|██████████| 205/205 [00:36<00:00,  5.54it/s]\n",
      "100%|██████████| 12/12 [00:01<00:00,  8.95it/s]\n"
     ]
    },
    {
     "name": "stdout",
     "output_type": "stream",
     "text": [
      "EPOCH: 3 | TRAIN LOSS: 0.0450 | VAL LOSS: 0.0612\n"
     ]
    },
    {
     "name": "stderr",
     "output_type": "stream",
     "text": [
      "100%|██████████| 205/205 [00:34<00:00,  5.95it/s]\n",
      "100%|██████████| 12/12 [00:01<00:00,  9.02it/s]\n"
     ]
    },
    {
     "name": "stdout",
     "output_type": "stream",
     "text": [
      "EPOCH: 4 | TRAIN LOSS: 0.0306 | VAL LOSS: 0.0602\n"
     ]
    },
    {
     "name": "stderr",
     "output_type": "stream",
     "text": [
      "100%|██████████| 205/205 [00:34<00:00,  5.94it/s]\n",
      "100%|██████████| 12/12 [00:01<00:00,  9.04it/s]\n"
     ]
    },
    {
     "name": "stdout",
     "output_type": "stream",
     "text": [
      "EPOCH: 5 | TRAIN LOSS: 0.0226 | VAL LOSS: 0.0608\n",
      "====================\n",
      "====================\n",
      "====================\n",
      "TRAINING WITH PARAMS:{'batch_size': 32, 'learning_rate': 5e-05, 'drop': 0.5}\n",
      "====================\n",
      "====================\n",
      "====================\n"
     ]
    },
    {
     "name": "stderr",
     "output_type": "stream",
     "text": [
      "100%|██████████| 205/205 [00:34<00:00,  5.97it/s]\n",
      "100%|██████████| 12/12 [00:01<00:00,  9.00it/s]\n"
     ]
    },
    {
     "name": "stdout",
     "output_type": "stream",
     "text": [
      "EPOCH: 1 | TRAIN LOSS: 0.1715 | VAL LOSS: 0.0769\n"
     ]
    },
    {
     "name": "stderr",
     "output_type": "stream",
     "text": [
      "100%|██████████| 205/205 [00:34<00:00,  5.97it/s]\n",
      "100%|██████████| 12/12 [00:01<00:00,  9.00it/s]\n"
     ]
    },
    {
     "name": "stdout",
     "output_type": "stream",
     "text": [
      "EPOCH: 2 | TRAIN LOSS: 0.0497 | VAL LOSS: 0.0679\n"
     ]
    },
    {
     "name": "stderr",
     "output_type": "stream",
     "text": [
      "100%|██████████| 205/205 [00:34<00:00,  5.97it/s]\n",
      "100%|██████████| 12/12 [00:01<00:00,  9.00it/s]\n"
     ]
    },
    {
     "name": "stdout",
     "output_type": "stream",
     "text": [
      "EPOCH: 3 | TRAIN LOSS: 0.0268 | VAL LOSS: 0.0659\n"
     ]
    },
    {
     "name": "stderr",
     "output_type": "stream",
     "text": [
      "100%|██████████| 205/205 [00:34<00:00,  5.97it/s]\n",
      "100%|██████████| 12/12 [00:01<00:00,  9.00it/s]\n",
      "  0%|          | 0/205 [00:00<?, ?it/s]"
     ]
    },
    {
     "name": "stdout",
     "output_type": "stream",
     "text": [
      "EPOCH: 4 | TRAIN LOSS: 0.0144 | VAL LOSS: 0.0661\n"
     ]
    },
    {
     "name": "stderr",
     "output_type": "stream",
     "text": [
      "100%|██████████| 205/205 [00:34<00:00,  5.97it/s]\n",
      "100%|██████████| 12/12 [00:01<00:00,  8.98it/s]\n"
     ]
    },
    {
     "name": "stdout",
     "output_type": "stream",
     "text": [
      "EPOCH: 5 | TRAIN LOSS: 0.0071 | VAL LOSS: 0.0691\n",
      "====================\n",
      "====================\n",
      "====================\n",
      "TRAINING WITH PARAMS:{'batch_size': 32, 'learning_rate': 3e-05, 'drop': 0.5}\n",
      "====================\n",
      "====================\n",
      "====================\n"
     ]
    },
    {
     "name": "stderr",
     "output_type": "stream",
     "text": [
      "100%|██████████| 205/205 [00:34<00:00,  5.98it/s]\n",
      "100%|██████████| 12/12 [00:01<00:00,  8.98it/s]\n"
     ]
    },
    {
     "name": "stdout",
     "output_type": "stream",
     "text": [
      "EPOCH: 1 | TRAIN LOSS: 0.1939 | VAL LOSS: 0.0821\n"
     ]
    },
    {
     "name": "stderr",
     "output_type": "stream",
     "text": [
      "100%|██████████| 205/205 [00:34<00:00,  5.97it/s]\n",
      "100%|██████████| 12/12 [00:01<00:00,  8.99it/s]\n"
     ]
    },
    {
     "name": "stdout",
     "output_type": "stream",
     "text": [
      "EPOCH: 2 | TRAIN LOSS: 0.0604 | VAL LOSS: 0.0820\n"
     ]
    },
    {
     "name": "stderr",
     "output_type": "stream",
     "text": [
      "100%|██████████| 205/205 [00:34<00:00,  5.96it/s]\n",
      "100%|██████████| 12/12 [00:01<00:00,  8.90it/s]\n"
     ]
    },
    {
     "name": "stdout",
     "output_type": "stream",
     "text": [
      "EPOCH: 3 | TRAIN LOSS: 0.0354 | VAL LOSS: 0.0612\n"
     ]
    },
    {
     "name": "stderr",
     "output_type": "stream",
     "text": [
      "100%|██████████| 205/205 [00:35<00:00,  5.84it/s]\n",
      "100%|██████████| 12/12 [00:01<00:00,  8.05it/s]\n",
      "  0%|          | 0/205 [00:00<?, ?it/s]"
     ]
    },
    {
     "name": "stdout",
     "output_type": "stream",
     "text": [
      "EPOCH: 4 | TRAIN LOSS: 0.0218 | VAL LOSS: 0.0623\n"
     ]
    },
    {
     "name": "stderr",
     "output_type": "stream",
     "text": [
      "100%|██████████| 205/205 [00:35<00:00,  5.76it/s]\n",
      "100%|██████████| 12/12 [00:01<00:00,  8.55it/s]\n"
     ]
    },
    {
     "name": "stdout",
     "output_type": "stream",
     "text": [
      "EPOCH: 5 | TRAIN LOSS: 0.0136 | VAL LOSS: 0.0653\n",
      "====================\n",
      "====================\n",
      "====================\n",
      "TRAINING WITH PARAMS:{'batch_size': 32, 'learning_rate': 2e-05, 'drop': 0.5}\n",
      "====================\n",
      "====================\n",
      "====================\n"
     ]
    },
    {
     "name": "stderr",
     "output_type": "stream",
     "text": [
      "100%|██████████| 205/205 [00:34<00:00,  5.94it/s]\n",
      "100%|██████████| 12/12 [00:01<00:00,  9.07it/s]\n"
     ]
    },
    {
     "name": "stdout",
     "output_type": "stream",
     "text": [
      "EPOCH: 1 | TRAIN LOSS: 0.2178 | VAL LOSS: 0.0927\n"
     ]
    },
    {
     "name": "stderr",
     "output_type": "stream",
     "text": [
      "100%|██████████| 205/205 [00:35<00:00,  5.80it/s]\n",
      "100%|██████████| 12/12 [00:01<00:00,  8.55it/s]\n"
     ]
    },
    {
     "name": "stdout",
     "output_type": "stream",
     "text": [
      "EPOCH: 2 | TRAIN LOSS: 0.0731 | VAL LOSS: 0.0898\n"
     ]
    },
    {
     "name": "stderr",
     "output_type": "stream",
     "text": [
      "100%|██████████| 205/205 [00:35<00:00,  5.84it/s]\n",
      "100%|██████████| 12/12 [00:01<00:00,  8.73it/s]\n"
     ]
    },
    {
     "name": "stdout",
     "output_type": "stream",
     "text": [
      "EPOCH: 3 | TRAIN LOSS: 0.0462 | VAL LOSS: 0.0616\n"
     ]
    },
    {
     "name": "stderr",
     "output_type": "stream",
     "text": [
      "100%|██████████| 205/205 [00:36<00:00,  5.66it/s]\n",
      "100%|██████████| 12/12 [00:01<00:00,  8.67it/s]\n"
     ]
    },
    {
     "name": "stdout",
     "output_type": "stream",
     "text": [
      "EPOCH: 4 | TRAIN LOSS: 0.0315 | VAL LOSS: 0.0612\n"
     ]
    },
    {
     "name": "stderr",
     "output_type": "stream",
     "text": [
      "100%|██████████| 205/205 [00:35<00:00,  5.77it/s]\n",
      "100%|██████████| 12/12 [00:01<00:00,  8.75it/s]"
     ]
    },
    {
     "name": "stdout",
     "output_type": "stream",
     "text": [
      "EPOCH: 5 | TRAIN LOSS: 0.0232 | VAL LOSS: 0.0619\n"
     ]
    },
    {
     "name": "stderr",
     "output_type": "stream",
     "text": [
      "\n"
     ]
    }
   ],
   "source": [
    "param_best_loss = [None for _ in range(len(hyper_params))]\n",
    "for i in range(len(hyper_params)):\n",
    "    prms = hyper_params[i]\n",
    "    print(\"=\"* 20)\n",
    "    print(\"=\"* 20)\n",
    "    print(\"=\"* 20)\n",
    "    print(f\"TRAINING WITH PARAMS:{prms}\")\n",
    "    print(\"=\"* 20)\n",
    "    print(\"=\"* 20)\n",
    "    print(\"=\"* 20)\n",
    "    best = train_ner(\n",
    "        \"../data/k-fold\",\n",
    "        **prms, \n",
    "        model_path=\"../data/model.bin\" \n",
    "    )\n",
    "    param_best_loss[i] = best "
   ]
  },
  {
   "cell_type": "markdown",
   "id": "blocked-strain",
   "metadata": {},
   "source": [
    "---"
   ]
  },
  {
   "cell_type": "code",
   "execution_count": 7,
   "id": "powerful-cause",
   "metadata": {},
   "outputs": [
    {
     "name": "stdout",
     "output_type": "stream",
     "text": [
      "0| CONFIG: {'batch_size': 16, 'learning_rate': 5e-05, 'drop': 0.3} | BEST VAL LOSS: 0.067\n",
      "1| CONFIG: {'batch_size': 16, 'learning_rate': 3e-05, 'drop': 0.3} | BEST VAL LOSS: 0.067\n",
      "2| CONFIG: {'batch_size': 16, 'learning_rate': 2e-05, 'drop': 0.3} | BEST VAL LOSS: 0.064\n",
      "3| CONFIG: {'batch_size': 16, 'learning_rate': 5e-05, 'drop': 0.5} | BEST VAL LOSS: 0.067\n",
      "4| CONFIG: {'batch_size': 16, 'learning_rate': 3e-05, 'drop': 0.5} | BEST VAL LOSS: 0.069\n",
      "5| CONFIG: {'batch_size': 16, 'learning_rate': 2e-05, 'drop': 0.5} | BEST VAL LOSS: 0.066\n",
      "6| CONFIG: {'batch_size': 32, 'learning_rate': 5e-05, 'drop': 0.3} | BEST VAL LOSS: 0.065\n",
      "7| CONFIG: {'batch_size': 32, 'learning_rate': 3e-05, 'drop': 0.3} | BEST VAL LOSS: 0.061\n",
      "8| CONFIG: {'batch_size': 32, 'learning_rate': 2e-05, 'drop': 0.3} | BEST VAL LOSS: 0.060\n",
      "9| CONFIG: {'batch_size': 32, 'learning_rate': 5e-05, 'drop': 0.5} | BEST VAL LOSS: 0.066\n",
      "10| CONFIG: {'batch_size': 32, 'learning_rate': 3e-05, 'drop': 0.5} | BEST VAL LOSS: 0.061\n",
      "11| CONFIG: {'batch_size': 32, 'learning_rate': 2e-05, 'drop': 0.5} | BEST VAL LOSS: 0.061\n"
     ]
    }
   ],
   "source": [
    "for idx, (i, j) in enumerate(zip(hyper_params, param_best_loss)):\n",
    "    print(f\"{idx}| CONFIG: {i} | BEST VAL LOSS: {j:.3f}\")"
   ]
  },
  {
   "cell_type": "code",
   "execution_count": 9,
   "id": "appointed-james",
   "metadata": {},
   "outputs": [
    {
     "data": {
      "text/plain": [
       "({'batch_size': 32, 'learning_rate': 2e-05, 'drop': 0.3}, 0.060246166617920004)"
      ]
     },
     "execution_count": 9,
     "metadata": {},
     "output_type": "execute_result"
    }
   ],
   "source": [
    "hyper_params[8], param_best_loss[8]"
   ]
  },
  {
   "cell_type": "markdown",
   "id": "tracked-archive",
   "metadata": {},
   "source": [
    "* Aright, It looks for now that config is 8, with the lowest validation loss\n",
    "* <b>NOTE</b>: config.py updated after this"
   ]
  },
  {
   "cell_type": "markdown",
   "id": "stone-reply",
   "metadata": {},
   "source": [
    "# Cross-validation \n",
    "* For better generalization likelihood, let's see how selected model and params compare against different folds"
   ]
  },
  {
   "cell_type": "code",
   "execution_count": 12,
   "id": "exciting-spider",
   "metadata": {},
   "outputs": [
    {
     "name": "stderr",
     "output_type": "stream",
     "text": [
      "100%|██████████| 205/205 [00:34<00:00,  5.90it/s]\n",
      "100%|██████████| 12/12 [00:01<00:00,  8.92it/s]\n"
     ]
    },
    {
     "name": "stdout",
     "output_type": "stream",
     "text": [
      "EPOCH: 1 | TRAIN LOSS: 0.2122 | VAL LOSS: 0.0913\n"
     ]
    },
    {
     "name": "stderr",
     "output_type": "stream",
     "text": [
      "100%|██████████| 205/205 [00:34<00:00,  5.87it/s]\n",
      "100%|██████████| 12/12 [00:01<00:00,  8.85it/s]\n"
     ]
    },
    {
     "name": "stdout",
     "output_type": "stream",
     "text": [
      "EPOCH: 2 | TRAIN LOSS: 0.0710 | VAL LOSS: 0.0897\n"
     ]
    },
    {
     "name": "stderr",
     "output_type": "stream",
     "text": [
      "100%|██████████| 205/205 [00:35<00:00,  5.84it/s]\n",
      "100%|██████████| 12/12 [00:01<00:00,  8.84it/s]\n"
     ]
    },
    {
     "name": "stdout",
     "output_type": "stream",
     "text": [
      "EPOCH: 3 | TRAIN LOSS: 0.0450 | VAL LOSS: 0.0612\n"
     ]
    },
    {
     "name": "stderr",
     "output_type": "stream",
     "text": [
      "100%|██████████| 205/205 [00:34<00:00,  5.87it/s]\n",
      "100%|██████████| 12/12 [00:01<00:00,  9.02it/s]\n"
     ]
    },
    {
     "name": "stdout",
     "output_type": "stream",
     "text": [
      "EPOCH: 4 | TRAIN LOSS: 0.0306 | VAL LOSS: 0.0602\n"
     ]
    },
    {
     "name": "stderr",
     "output_type": "stream",
     "text": [
      "100%|██████████| 205/205 [00:35<00:00,  5.77it/s]\n",
      "100%|██████████| 12/12 [00:01<00:00,  8.80it/s]\n"
     ]
    },
    {
     "name": "stdout",
     "output_type": "stream",
     "text": [
      "EPOCH: 5 | TRAIN LOSS: 0.0226 | VAL LOSS: 0.0608\n"
     ]
    },
    {
     "name": "stderr",
     "output_type": "stream",
     "text": [
      "100%|██████████| 205/205 [00:35<00:00,  5.81it/s]\n",
      "100%|██████████| 12/12 [00:01<00:00,  8.75it/s]\n"
     ]
    },
    {
     "name": "stdout",
     "output_type": "stream",
     "text": [
      "EPOCH: 1 | TRAIN LOSS: 0.2092 | VAL LOSS: 0.0892\n"
     ]
    },
    {
     "name": "stderr",
     "output_type": "stream",
     "text": [
      "100%|██████████| 205/205 [00:35<00:00,  5.80it/s]\n",
      "100%|██████████| 12/12 [00:01<00:00,  8.77it/s]\n"
     ]
    },
    {
     "name": "stdout",
     "output_type": "stream",
     "text": [
      "EPOCH: 2 | TRAIN LOSS: 0.0705 | VAL LOSS: 0.0806\n"
     ]
    },
    {
     "name": "stderr",
     "output_type": "stream",
     "text": [
      "100%|██████████| 205/205 [00:35<00:00,  5.79it/s]\n",
      "100%|██████████| 12/12 [00:01<00:00,  8.77it/s]\n"
     ]
    },
    {
     "name": "stdout",
     "output_type": "stream",
     "text": [
      "EPOCH: 3 | TRAIN LOSS: 0.0430 | VAL LOSS: 0.0649\n"
     ]
    },
    {
     "name": "stderr",
     "output_type": "stream",
     "text": [
      "100%|██████████| 205/205 [00:35<00:00,  5.80it/s]\n",
      "100%|██████████| 12/12 [00:01<00:00,  8.74it/s]\n"
     ]
    },
    {
     "name": "stdout",
     "output_type": "stream",
     "text": [
      "EPOCH: 4 | TRAIN LOSS: 0.0293 | VAL LOSS: 0.0645\n"
     ]
    },
    {
     "name": "stderr",
     "output_type": "stream",
     "text": [
      "100%|██████████| 205/205 [00:35<00:00,  5.78it/s]\n",
      "100%|██████████| 12/12 [00:01<00:00,  8.73it/s]\n"
     ]
    },
    {
     "name": "stdout",
     "output_type": "stream",
     "text": [
      "EPOCH: 5 | TRAIN LOSS: 0.0223 | VAL LOSS: 0.0638\n"
     ]
    },
    {
     "name": "stderr",
     "output_type": "stream",
     "text": [
      "100%|██████████| 205/205 [00:35<00:00,  5.78it/s]\n",
      "100%|██████████| 12/12 [00:01<00:00,  8.82it/s]\n"
     ]
    },
    {
     "name": "stdout",
     "output_type": "stream",
     "text": [
      "EPOCH: 1 | TRAIN LOSS: 0.2107 | VAL LOSS: 0.0993\n"
     ]
    },
    {
     "name": "stderr",
     "output_type": "stream",
     "text": [
      "100%|██████████| 205/205 [00:35<00:00,  5.78it/s]\n",
      "100%|██████████| 12/12 [00:01<00:00,  8.82it/s]\n"
     ]
    },
    {
     "name": "stdout",
     "output_type": "stream",
     "text": [
      "EPOCH: 2 | TRAIN LOSS: 0.0707 | VAL LOSS: 0.0851\n"
     ]
    },
    {
     "name": "stderr",
     "output_type": "stream",
     "text": [
      "100%|██████████| 205/205 [00:35<00:00,  5.78it/s]\n",
      "100%|██████████| 12/12 [00:01<00:00,  8.83it/s]\n"
     ]
    },
    {
     "name": "stdout",
     "output_type": "stream",
     "text": [
      "EPOCH: 3 | TRAIN LOSS: 0.0444 | VAL LOSS: 0.0777\n"
     ]
    },
    {
     "name": "stderr",
     "output_type": "stream",
     "text": [
      "100%|██████████| 205/205 [00:35<00:00,  5.79it/s]\n",
      "100%|██████████| 12/12 [00:01<00:00,  8.83it/s]\n",
      "  0%|          | 0/205 [00:00<?, ?it/s]"
     ]
    },
    {
     "name": "stdout",
     "output_type": "stream",
     "text": [
      "EPOCH: 4 | TRAIN LOSS: 0.0301 | VAL LOSS: 0.0828\n"
     ]
    },
    {
     "name": "stderr",
     "output_type": "stream",
     "text": [
      "100%|██████████| 205/205 [00:35<00:00,  5.79it/s]\n",
      "100%|██████████| 12/12 [00:01<00:00,  8.83it/s]\n"
     ]
    },
    {
     "name": "stdout",
     "output_type": "stream",
     "text": [
      "EPOCH: 5 | TRAIN LOSS: 0.0226 | VAL LOSS: 0.0806\n"
     ]
    },
    {
     "name": "stderr",
     "output_type": "stream",
     "text": [
      "100%|██████████| 205/205 [00:35<00:00,  5.78it/s]\n",
      "100%|██████████| 12/12 [00:01<00:00,  8.73it/s]\n"
     ]
    },
    {
     "name": "stdout",
     "output_type": "stream",
     "text": [
      "EPOCH: 1 | TRAIN LOSS: 0.2137 | VAL LOSS: 0.0815\n"
     ]
    },
    {
     "name": "stderr",
     "output_type": "stream",
     "text": [
      "100%|██████████| 205/205 [00:35<00:00,  5.79it/s]\n",
      "100%|██████████| 12/12 [00:01<00:00,  8.78it/s]\n"
     ]
    },
    {
     "name": "stdout",
     "output_type": "stream",
     "text": [
      "EPOCH: 2 | TRAIN LOSS: 0.0710 | VAL LOSS: 0.0801\n"
     ]
    },
    {
     "name": "stderr",
     "output_type": "stream",
     "text": [
      "100%|██████████| 205/205 [00:35<00:00,  5.79it/s]\n",
      "100%|██████████| 12/12 [00:01<00:00,  8.77it/s]\n"
     ]
    },
    {
     "name": "stdout",
     "output_type": "stream",
     "text": [
      "EPOCH: 3 | TRAIN LOSS: 0.0446 | VAL LOSS: 0.0517\n"
     ]
    },
    {
     "name": "stderr",
     "output_type": "stream",
     "text": [
      "100%|██████████| 205/205 [00:35<00:00,  5.79it/s]\n",
      "100%|██████████| 12/12 [00:01<00:00,  8.77it/s]\n"
     ]
    },
    {
     "name": "stdout",
     "output_type": "stream",
     "text": [
      "EPOCH: 4 | TRAIN LOSS: 0.0305 | VAL LOSS: 0.0497\n"
     ]
    },
    {
     "name": "stderr",
     "output_type": "stream",
     "text": [
      "100%|██████████| 205/205 [00:35<00:00,  5.74it/s]\n",
      "100%|██████████| 12/12 [00:01<00:00,  8.75it/s]\n"
     ]
    },
    {
     "name": "stdout",
     "output_type": "stream",
     "text": [
      "EPOCH: 5 | TRAIN LOSS: 0.0240 | VAL LOSS: 0.0486\n"
     ]
    },
    {
     "name": "stderr",
     "output_type": "stream",
     "text": [
      "100%|██████████| 205/205 [00:35<00:00,  5.79it/s]\n",
      "100%|██████████| 12/12 [00:01<00:00,  8.75it/s]\n"
     ]
    },
    {
     "name": "stdout",
     "output_type": "stream",
     "text": [
      "EPOCH: 1 | TRAIN LOSS: 0.2126 | VAL LOSS: 0.0867\n"
     ]
    },
    {
     "name": "stderr",
     "output_type": "stream",
     "text": [
      "100%|██████████| 205/205 [00:35<00:00,  5.79it/s]\n",
      "100%|██████████| 12/12 [00:01<00:00,  8.73it/s]\n"
     ]
    },
    {
     "name": "stdout",
     "output_type": "stream",
     "text": [
      "EPOCH: 2 | TRAIN LOSS: 0.0708 | VAL LOSS: 0.0742\n"
     ]
    },
    {
     "name": "stderr",
     "output_type": "stream",
     "text": [
      "100%|██████████| 205/205 [00:35<00:00,  5.79it/s]\n",
      "100%|██████████| 12/12 [00:01<00:00,  8.75it/s]\n"
     ]
    },
    {
     "name": "stdout",
     "output_type": "stream",
     "text": [
      "EPOCH: 3 | TRAIN LOSS: 0.0425 | VAL LOSS: 0.0623\n"
     ]
    },
    {
     "name": "stderr",
     "output_type": "stream",
     "text": [
      "100%|██████████| 205/205 [00:35<00:00,  5.78it/s]\n",
      "100%|██████████| 12/12 [00:01<00:00,  8.74it/s]\n"
     ]
    },
    {
     "name": "stdout",
     "output_type": "stream",
     "text": [
      "EPOCH: 4 | TRAIN LOSS: 0.0292 | VAL LOSS: 0.0596\n"
     ]
    },
    {
     "name": "stderr",
     "output_type": "stream",
     "text": [
      "100%|██████████| 205/205 [00:35<00:00,  5.79it/s]\n",
      "100%|██████████| 12/12 [00:01<00:00,  8.75it/s]\n"
     ]
    },
    {
     "name": "stdout",
     "output_type": "stream",
     "text": [
      "EPOCH: 5 | TRAIN LOSS: 0.0228 | VAL LOSS: 0.0587\n"
     ]
    },
    {
     "name": "stderr",
     "output_type": "stream",
     "text": [
      "100%|██████████| 205/205 [00:35<00:00,  5.79it/s]\n",
      "100%|██████████| 12/12 [00:01<00:00,  8.78it/s]\n"
     ]
    },
    {
     "name": "stdout",
     "output_type": "stream",
     "text": [
      "EPOCH: 1 | TRAIN LOSS: 0.2119 | VAL LOSS: 0.0776\n"
     ]
    },
    {
     "name": "stderr",
     "output_type": "stream",
     "text": [
      "100%|██████████| 205/205 [00:35<00:00,  5.78it/s]\n",
      "100%|██████████| 12/12 [00:01<00:00,  8.76it/s]\n",
      "  0%|          | 0/205 [00:00<?, ?it/s]"
     ]
    },
    {
     "name": "stdout",
     "output_type": "stream",
     "text": [
      "EPOCH: 2 | TRAIN LOSS: 0.0721 | VAL LOSS: 0.0779\n"
     ]
    },
    {
     "name": "stderr",
     "output_type": "stream",
     "text": [
      "100%|██████████| 205/205 [00:35<00:00,  5.79it/s]\n",
      "100%|██████████| 12/12 [00:01<00:00,  8.78it/s]\n"
     ]
    },
    {
     "name": "stdout",
     "output_type": "stream",
     "text": [
      "EPOCH: 3 | TRAIN LOSS: 0.0457 | VAL LOSS: 0.0567\n"
     ]
    },
    {
     "name": "stderr",
     "output_type": "stream",
     "text": [
      "100%|██████████| 205/205 [00:35<00:00,  5.81it/s]\n",
      "100%|██████████| 12/12 [00:01<00:00,  8.98it/s]\n"
     ]
    },
    {
     "name": "stdout",
     "output_type": "stream",
     "text": [
      "EPOCH: 4 | TRAIN LOSS: 0.0317 | VAL LOSS: 0.0558\n"
     ]
    },
    {
     "name": "stderr",
     "output_type": "stream",
     "text": [
      "100%|██████████| 205/205 [00:35<00:00,  5.78it/s]\n",
      "100%|██████████| 12/12 [00:01<00:00,  8.62it/s]\n"
     ]
    },
    {
     "name": "stdout",
     "output_type": "stream",
     "text": [
      "EPOCH: 5 | TRAIN LOSS: 0.0230 | VAL LOSS: 0.0537\n"
     ]
    },
    {
     "name": "stderr",
     "output_type": "stream",
     "text": [
      "100%|██████████| 205/205 [00:35<00:00,  5.76it/s]\n",
      "100%|██████████| 12/12 [00:01<00:00,  8.68it/s]\n"
     ]
    },
    {
     "name": "stdout",
     "output_type": "stream",
     "text": [
      "EPOCH: 1 | TRAIN LOSS: 0.2134 | VAL LOSS: 0.0636\n"
     ]
    },
    {
     "name": "stderr",
     "output_type": "stream",
     "text": [
      "100%|██████████| 205/205 [00:35<00:00,  5.76it/s]\n",
      "100%|██████████| 12/12 [00:01<00:00,  8.76it/s]\n"
     ]
    },
    {
     "name": "stdout",
     "output_type": "stream",
     "text": [
      "EPOCH: 2 | TRAIN LOSS: 0.0723 | VAL LOSS: 0.0555\n"
     ]
    },
    {
     "name": "stderr",
     "output_type": "stream",
     "text": [
      "100%|██████████| 205/205 [00:35<00:00,  5.78it/s]\n",
      "100%|██████████| 12/12 [00:01<00:00,  8.75it/s]\n"
     ]
    },
    {
     "name": "stdout",
     "output_type": "stream",
     "text": [
      "EPOCH: 3 | TRAIN LOSS: 0.0451 | VAL LOSS: 0.0408\n"
     ]
    },
    {
     "name": "stderr",
     "output_type": "stream",
     "text": [
      "100%|██████████| 205/205 [00:35<00:00,  5.75it/s]\n",
      "100%|██████████| 12/12 [00:01<00:00,  8.75it/s]\n"
     ]
    },
    {
     "name": "stdout",
     "output_type": "stream",
     "text": [
      "EPOCH: 4 | TRAIN LOSS: 0.0308 | VAL LOSS: 0.0398\n"
     ]
    },
    {
     "name": "stderr",
     "output_type": "stream",
     "text": [
      "100%|██████████| 205/205 [00:35<00:00,  5.82it/s]\n",
      "100%|██████████| 12/12 [00:01<00:00,  8.95it/s]\n"
     ]
    },
    {
     "name": "stdout",
     "output_type": "stream",
     "text": [
      "EPOCH: 5 | TRAIN LOSS: 0.0237 | VAL LOSS: 0.0402\n"
     ]
    },
    {
     "name": "stderr",
     "output_type": "stream",
     "text": [
      "100%|██████████| 205/205 [00:35<00:00,  5.78it/s]\n",
      "100%|██████████| 12/12 [00:01<00:00,  8.71it/s]\n"
     ]
    },
    {
     "name": "stdout",
     "output_type": "stream",
     "text": [
      "EPOCH: 1 | TRAIN LOSS: 0.2145 | VAL LOSS: 0.0821\n"
     ]
    },
    {
     "name": "stderr",
     "output_type": "stream",
     "text": [
      "100%|██████████| 205/205 [00:35<00:00,  5.70it/s]\n",
      "100%|██████████| 12/12 [00:01<00:00,  8.76it/s]\n"
     ]
    },
    {
     "name": "stdout",
     "output_type": "stream",
     "text": [
      "EPOCH: 2 | TRAIN LOSS: 0.0720 | VAL LOSS: 0.0745\n"
     ]
    },
    {
     "name": "stderr",
     "output_type": "stream",
     "text": [
      "100%|██████████| 205/205 [00:35<00:00,  5.71it/s]\n",
      "100%|██████████| 12/12 [00:01<00:00,  8.67it/s]\n"
     ]
    },
    {
     "name": "stdout",
     "output_type": "stream",
     "text": [
      "EPOCH: 3 | TRAIN LOSS: 0.0454 | VAL LOSS: 0.0568\n"
     ]
    },
    {
     "name": "stderr",
     "output_type": "stream",
     "text": [
      "100%|██████████| 205/205 [00:35<00:00,  5.77it/s]\n",
      "100%|██████████| 12/12 [00:01<00:00,  8.75it/s]\n",
      "  0%|          | 0/205 [00:00<?, ?it/s]"
     ]
    },
    {
     "name": "stdout",
     "output_type": "stream",
     "text": [
      "EPOCH: 4 | TRAIN LOSS: 0.0299 | VAL LOSS: 0.0573\n"
     ]
    },
    {
     "name": "stderr",
     "output_type": "stream",
     "text": [
      "100%|██████████| 205/205 [00:35<00:00,  5.79it/s]\n",
      "100%|██████████| 12/12 [00:01<00:00,  8.73it/s]\n"
     ]
    },
    {
     "name": "stdout",
     "output_type": "stream",
     "text": [
      "EPOCH: 5 | TRAIN LOSS: 0.0238 | VAL LOSS: 0.0538\n"
     ]
    },
    {
     "name": "stderr",
     "output_type": "stream",
     "text": [
      "100%|██████████| 205/205 [00:35<00:00,  5.74it/s]\n",
      "100%|██████████| 12/12 [00:01<00:00,  8.58it/s]\n"
     ]
    },
    {
     "name": "stdout",
     "output_type": "stream",
     "text": [
      "EPOCH: 1 | TRAIN LOSS: 0.2090 | VAL LOSS: 0.0867\n"
     ]
    },
    {
     "name": "stderr",
     "output_type": "stream",
     "text": [
      "100%|██████████| 205/205 [00:35<00:00,  5.75it/s]\n",
      "100%|██████████| 12/12 [00:01<00:00,  8.70it/s]\n",
      "  0%|          | 0/205 [00:00<?, ?it/s]"
     ]
    },
    {
     "name": "stdout",
     "output_type": "stream",
     "text": [
      "EPOCH: 2 | TRAIN LOSS: 0.0704 | VAL LOSS: 0.0919\n"
     ]
    },
    {
     "name": "stderr",
     "output_type": "stream",
     "text": [
      "100%|██████████| 205/205 [00:35<00:00,  5.77it/s]\n",
      "100%|██████████| 12/12 [00:01<00:00,  8.78it/s]\n"
     ]
    },
    {
     "name": "stdout",
     "output_type": "stream",
     "text": [
      "EPOCH: 3 | TRAIN LOSS: 0.0434 | VAL LOSS: 0.0660\n"
     ]
    },
    {
     "name": "stderr",
     "output_type": "stream",
     "text": [
      "100%|██████████| 205/205 [00:35<00:00,  5.73it/s]\n",
      "100%|██████████| 12/12 [00:01<00:00,  8.59it/s]\n"
     ]
    },
    {
     "name": "stdout",
     "output_type": "stream",
     "text": [
      "EPOCH: 4 | TRAIN LOSS: 0.0293 | VAL LOSS: 0.0610\n"
     ]
    },
    {
     "name": "stderr",
     "output_type": "stream",
     "text": [
      "100%|██████████| 205/205 [00:35<00:00,  5.78it/s]\n",
      "100%|██████████| 12/12 [00:01<00:00,  8.50it/s]\n"
     ]
    },
    {
     "name": "stdout",
     "output_type": "stream",
     "text": [
      "EPOCH: 5 | TRAIN LOSS: 0.0222 | VAL LOSS: 0.0582\n"
     ]
    },
    {
     "name": "stderr",
     "output_type": "stream",
     "text": [
      "100%|██████████| 205/205 [00:35<00:00,  5.81it/s]\n",
      "100%|██████████| 12/12 [00:01<00:00,  9.09it/s]\n"
     ]
    },
    {
     "name": "stdout",
     "output_type": "stream",
     "text": [
      "EPOCH: 1 | TRAIN LOSS: 0.2099 | VAL LOSS: 0.1024\n"
     ]
    },
    {
     "name": "stderr",
     "output_type": "stream",
     "text": [
      "100%|██████████| 205/205 [00:34<00:00,  5.95it/s]\n",
      "100%|██████████| 12/12 [00:01<00:00,  8.61it/s]\n"
     ]
    },
    {
     "name": "stdout",
     "output_type": "stream",
     "text": [
      "EPOCH: 2 | TRAIN LOSS: 0.0711 | VAL LOSS: 0.0872\n"
     ]
    },
    {
     "name": "stderr",
     "output_type": "stream",
     "text": [
      "100%|██████████| 205/205 [00:34<00:00,  5.97it/s]\n",
      "100%|██████████| 12/12 [00:01<00:00,  9.07it/s]\n"
     ]
    },
    {
     "name": "stdout",
     "output_type": "stream",
     "text": [
      "EPOCH: 3 | TRAIN LOSS: 0.0450 | VAL LOSS: 0.0681\n"
     ]
    },
    {
     "name": "stderr",
     "output_type": "stream",
     "text": [
      "100%|██████████| 205/205 [00:34<00:00,  5.97it/s]\n",
      "100%|██████████| 12/12 [00:01<00:00,  8.79it/s]\n"
     ]
    },
    {
     "name": "stdout",
     "output_type": "stream",
     "text": [
      "EPOCH: 4 | TRAIN LOSS: 0.0298 | VAL LOSS: 0.0675\n"
     ]
    },
    {
     "name": "stderr",
     "output_type": "stream",
     "text": [
      "100%|██████████| 205/205 [00:34<00:00,  5.97it/s]\n",
      "100%|██████████| 12/12 [00:01<00:00,  8.88it/s]\n"
     ]
    },
    {
     "name": "stdout",
     "output_type": "stream",
     "text": [
      "EPOCH: 5 | TRAIN LOSS: 0.0235 | VAL LOSS: 0.0650\n"
     ]
    }
   ],
   "source": [
    "k_fold_losses = [None for _ in range(10)]\n",
    "for i in range(10):\n",
    "    \n",
    "    best = train_ner(\n",
    "        \"../data/k-fold\",\n",
    "        **hyper_params[8], \n",
    "        fold = i + 1,\n",
    "        model_path=\"../data/model.bin\" \n",
    "    )\n",
    "    \n",
    "    k_fold_losses[i] = best"
   ]
  },
  {
   "cell_type": "code",
   "execution_count": 17,
   "id": "imperial-lover",
   "metadata": {},
   "outputs": [
    {
     "name": "stdout",
     "output_type": "stream",
     "text": [
      "FOLD1: loss: 0.060\n",
      "FOLD2: loss: 0.064\n",
      "FOLD3: loss: 0.078\n",
      "FOLD4: loss: 0.049\n",
      "FOLD5: loss: 0.059\n",
      "FOLD6: loss: 0.054\n",
      "FOLD7: loss: 0.040\n",
      "FOLD8: loss: 0.054\n",
      "FOLD9: loss: 0.058\n",
      "FOLD10: loss: 0.065\n",
      "\n",
      "MEAN: 0.057949\n",
      "STD: 0.009644\n"
     ]
    }
   ],
   "source": [
    "import numpy as np\n",
    "\n",
    "for i in range(10):\n",
    "    print(f\"FOLD{i+1}: loss: {k_fold_losses[i]:.3f}\")\n",
    "\n",
    "print()\n",
    "print(f\"MEAN: {np.array(k_fold_losses).mean():3f}\")\n",
    "print(f\"STD: {np.array(k_fold_losses).std():3f}\")"
   ]
  },
  {
   "cell_type": "markdown",
   "id": "prompt-coverage",
   "metadata": {},
   "source": [
    "* hah, it looks like our first selected fold performed worse than average, even with picking hyperparameters for it\n",
    "* There can be quite a few reasons for it, most involvind dat(recall that original data is already split into train and dev sets) but it would a little bit too much time to verify the cause(if it's findable at all)\n",
    "* For simplicity sake, let's just pick the best fold w.r.t. loss and use it as our final model"
   ]
  },
  {
   "cell_type": "markdown",
   "id": "constant-cattle",
   "metadata": {},
   "source": [
    "# Building the final model\n",
    "\n",
    "* Here we build our final model that will be used for test set prediction and inference tasks etc. "
   ]
  },
  {
   "cell_type": "code",
   "execution_count": 18,
   "id": "judicial-matthew",
   "metadata": {
    "scrolled": true
   },
   "outputs": [
    {
     "name": "stderr",
     "output_type": "stream",
     "text": [
      "100%|██████████| 205/205 [00:34<00:00,  5.91it/s]\n",
      "100%|██████████| 12/12 [00:01<00:00,  8.63it/s]\n"
     ]
    },
    {
     "name": "stdout",
     "output_type": "stream",
     "text": [
      "EPOCH: 1 | TRAIN LOSS: 0.2134 | VAL LOSS: 0.0636\n"
     ]
    },
    {
     "name": "stderr",
     "output_type": "stream",
     "text": [
      "100%|██████████| 205/205 [00:34<00:00,  5.97it/s]\n",
      "100%|██████████| 12/12 [00:01<00:00,  9.03it/s]\n"
     ]
    },
    {
     "name": "stdout",
     "output_type": "stream",
     "text": [
      "EPOCH: 2 | TRAIN LOSS: 0.0723 | VAL LOSS: 0.0555\n"
     ]
    },
    {
     "name": "stderr",
     "output_type": "stream",
     "text": [
      "100%|██████████| 205/205 [00:34<00:00,  6.00it/s]\n",
      "100%|██████████| 12/12 [00:01<00:00,  9.01it/s]\n"
     ]
    },
    {
     "name": "stdout",
     "output_type": "stream",
     "text": [
      "EPOCH: 3 | TRAIN LOSS: 0.0451 | VAL LOSS: 0.0408\n"
     ]
    },
    {
     "name": "stderr",
     "output_type": "stream",
     "text": [
      "100%|██████████| 205/205 [00:34<00:00,  5.97it/s]\n",
      "100%|██████████| 12/12 [00:01<00:00,  8.96it/s]\n"
     ]
    },
    {
     "name": "stdout",
     "output_type": "stream",
     "text": [
      "EPOCH: 4 | TRAIN LOSS: 0.0308 | VAL LOSS: 0.0398\n"
     ]
    },
    {
     "name": "stderr",
     "output_type": "stream",
     "text": [
      "100%|██████████| 205/205 [00:34<00:00,  5.96it/s]\n",
      "100%|██████████| 12/12 [00:01<00:00,  8.98it/s]"
     ]
    },
    {
     "name": "stdout",
     "output_type": "stream",
     "text": [
      "EPOCH: 5 | TRAIN LOSS: 0.0237 | VAL LOSS: 0.0402\n"
     ]
    },
    {
     "name": "stderr",
     "output_type": "stream",
     "text": [
      "\n"
     ]
    }
   ],
   "source": [
    "%%time\n",
    "_ = train_ner(\"../data/k-fold\",\n",
    "        **hyper_params[8], \n",
    "        fold = 7,\n",
    "        model_path=\"../data/model.bin\" \n",
    ")"
   ]
  },
  {
   "cell_type": "markdown",
   "id": "radio-locking",
   "metadata": {},
   "source": [
    "* Training loss is decreasing steadily, so that's a good sign that our model is learning\n",
    "* Validation set also decreases util it reaches some kind of \"local minima\" or a saddle point \n",
    "* May want to play around with scheduler and optimizer a bit maybe, but as Andrey says, \"don't be a hero\" :D"
   ]
  }
 ],
 "metadata": {
  "kernelspec": {
   "display_name": "Python 3",
   "language": "python",
   "name": "python3"
  },
  "language_info": {
   "codemirror_mode": {
    "name": "ipython",
    "version": 3
   },
   "file_extension": ".py",
   "mimetype": "text/x-python",
   "name": "python",
   "nbconvert_exporter": "python",
   "pygments_lexer": "ipython3",
   "version": "3.8.6"
  }
 },
 "nbformat": 4,
 "nbformat_minor": 5
}
