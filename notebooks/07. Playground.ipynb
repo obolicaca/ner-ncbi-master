{
 "cells": [
  {
   "cell_type": "code",
   "execution_count": 5,
   "id": "worst-wheel",
   "metadata": {},
   "outputs": [
    {
     "name": "stdout",
     "output_type": "stream",
     "text": [
      "The autoreload extension is already loaded. To reload it, use:\n",
      "  %reload_ext autoreload\n"
     ]
    }
   ],
   "source": [
    "%load_ext autoreload\n",
    "%autoreload 2\n",
    "import sys; sys.path.insert(0, \"..\")"
   ]
  },
  {
   "cell_type": "markdown",
   "id": "copyrighted-syndicate",
   "metadata": {},
   "source": [
    "# PLAYGROUND \n",
    "* Input various strings and see what prediction comes up !"
   ]
  },
  {
   "cell_type": "code",
   "execution_count": 18,
   "id": "retained-qatar",
   "metadata": {},
   "outputs": [],
   "source": [
    "from core.predict import Predictor"
   ]
  },
  {
   "cell_type": "code",
   "execution_count": 19,
   "id": "destroyed-awareness",
   "metadata": {},
   "outputs": [],
   "source": [
    "foo = Predictor(\"../data\") "
   ]
  },
  {
   "cell_type": "code",
   "execution_count": 20,
   "id": "common-league",
   "metadata": {},
   "outputs": [],
   "source": [
    "text, pred = foo(\"Breast Cancer is scary, but not as scary as leukiemia\")"
   ]
  },
  {
   "cell_type": "code",
   "execution_count": 21,
   "id": "desperate-appearance",
   "metadata": {},
   "outputs": [
    {
     "name": "stdout",
     "output_type": "stream",
     "text": [
      "Breast B\n",
      "Cancer I\n",
      "is O\n",
      "scary O\n",
      ", O\n",
      "but O\n",
      "not O\n",
      "as O\n",
      "scary O\n",
      "as O\n",
      "leukiemia B\n"
     ]
    }
   ],
   "source": [
    "for i, j in zip(text, pred):\n",
    "    print(i,j)"
   ]
  },
  {
   "cell_type": "code",
   "execution_count": null,
   "id": "indonesian-daniel",
   "metadata": {},
   "outputs": [],
   "source": []
  }
 ],
 "metadata": {
  "kernelspec": {
   "display_name": "Python 3",
   "language": "python",
   "name": "python3"
  },
  "language_info": {
   "codemirror_mode": {
    "name": "ipython",
    "version": 3
   },
   "file_extension": ".py",
   "mimetype": "text/x-python",
   "name": "python",
   "nbconvert_exporter": "python",
   "pygments_lexer": "ipython3",
   "version": "3.8.6"
  }
 },
 "nbformat": 4,
 "nbformat_minor": 5
}
