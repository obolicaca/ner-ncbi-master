{
 "cells": [
  {
   "cell_type": "markdown",
   "id": "indian-kelly",
   "metadata": {},
   "source": [
    "# Data augmentation \n",
    "\n",
    "* For the sake of time we won't be performing this step, but this is about time I would start thinking about data augmentation(maybe add additional classes that would sample with augmentation for the training set)\n",
    "* We would do some simple transforms for [here](https://arxiv.org/pdf/1901.11196.pdf). However, we would need to highly adjust the process as our data includes sequences for which, say, adding or deleting a word for sequence entitity (more than one word) may cause various unintended effects etc.\n",
    "* We could also check what's available on the interwebz. [nlpaug](https://github.com/makcedward/nlpaug) provides various augmentation techniques for character/word/sentence level augmentation, so may be a good idea to check it out"
   ]
  },
  {
   "cell_type": "markdown",
   "id": "reserved-administration",
   "metadata": {},
   "source": [
    "<img src=\"https://i.pinimg.com/236x/54/a4/00/54a4008daad4565a9b5db1b94e59c74c.jpg\" width=600 height=600 /> "
   ]
  }
 ],
 "metadata": {
  "kernelspec": {
   "display_name": "Python 3",
   "language": "python",
   "name": "python3"
  },
  "language_info": {
   "codemirror_mode": {
    "name": "ipython",
    "version": 3
   },
   "file_extension": ".py",
   "mimetype": "text/x-python",
   "name": "python",
   "nbconvert_exporter": "python",
   "pygments_lexer": "ipython3",
   "version": "3.8.6"
  }
 },
 "nbformat": 4,
 "nbformat_minor": 5
}
