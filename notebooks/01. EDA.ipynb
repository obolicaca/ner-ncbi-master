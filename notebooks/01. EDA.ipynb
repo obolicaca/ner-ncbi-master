{
 "cells": [
  {
   "cell_type": "code",
   "execution_count": 1,
   "id": "sweet-protein",
   "metadata": {},
   "outputs": [],
   "source": [
    "%load_ext autoreload\n",
    "%autoreload 2\n",
    "import sys; sys.path.insert(0, \"..\")\n",
    "%matplotlib inline"
   ]
  },
  {
   "cell_type": "markdown",
   "id": "forward-palace",
   "metadata": {},
   "source": [
    "# Exploratory data analysis\n",
    "\n",
    "* In this section we shall look at your data and try to infer useful information\n",
    "* Additionally we shall test how our data plays along with bert tokenizers, specifically with distil bert tokenizers (we shall discuss the choice for transfer model later, maybe :D)"
   ]
  },
  {
   "cell_type": "markdown",
   "id": "mighty-silly",
   "metadata": {},
   "source": [
    "# Tokenization\n",
    "\n",
    "* For now, we have pairs of inputs and targets in form [token1, token2..], [tag1, tag2]\n",
    "* However, Bert and bert like models use [wordpiece](https://stackoverflow.com/questions/55382596/how-is-wordpiece-tokenization-helpful-to-effectively-deal-with-rare-words-proble/55416944#55416944) embeddings, we must somehow account for that\n",
    "* A common way to do it is to split each word into it's word tokens, and tag each token with the label of the original word\n",
    "* On a side note, we shall be using cased tokenizer, as it seems that [cased](https://arxiv.org/pdf/1901.08746.pdf)  variant provides better results. Intuitively, this makes some sense: suppose an abbreviation \"LIKE\" is used. If we lower case this bad boy, it will become harder to distinguish between \"like\" the abbreviation and like the word. Abusing Capital letter information makes the task easier"
   ]
  },
  {
   "cell_type": "markdown",
   "id": "going-forty",
   "metadata": {},
   "source": [
    "# Chosing sequence length\n",
    "\n",
    "* As I recall, bert and distill bert both provide max input length of 512. We would like to not exceed this amount as we would have to use something like a sliding window approach which would add large computational overhead\n",
    "* We would also like to input only enough tokens to satisfy our input lengths, as padding whole [512 - tokens] inputs and passing them to transformer would incur additional computational overhead, not mentioning dealing with other issues "
   ]
  },
  {
   "cell_type": "code",
   "execution_count": 2,
   "id": "marine-scholar",
   "metadata": {},
   "outputs": [],
   "source": [
    "import joblib\n",
    "from collections import defaultdict\n",
    "from core.config import config \n",
    "from core.visual import vis_token_counts "
   ]
  },
  {
   "cell_type": "code",
   "execution_count": 3,
   "id": "aggressive-fraud",
   "metadata": {},
   "outputs": [],
   "source": [
    "x, y = joblib.load(\"../data/proc/train.bin\")\n",
    "tokenizer = config[\"tokenizer\"][\"TOKENIZER\"]"
   ]
  },
  {
   "cell_type": "code",
   "execution_count": 4,
   "id": "whole-stockholm",
   "metadata": {},
   "outputs": [],
   "source": [
    "lengths = []\n",
    "tokenized_sentences = []\n",
    "for sent in x:\n",
    "    sent_len = 2 # [CLS] + [SEP] token \n",
    "    new_sent = []\n",
    "    for word in sent:\n",
    "        w_pieces = tokenizer.encode(word, add_special_tokens=False)\n",
    "        sent_len += len(w_pieces)  \n",
    "        new_sent.extend(w_pieces)\n",
    "        \n",
    "    lengths.append(sent_len)   \n",
    "    tokenized_sentences.append([101] + new_sent + [102])  \n",
    "    \n",
    "assert(len(lengths) == len(x))"
   ]
  },
  {
   "cell_type": "code",
   "execution_count": 5,
   "id": "little-identifier",
   "metadata": {},
   "outputs": [
    {
     "data": {
      "image/png": "[encoded data removed]",
      "text/plain": [
       "<Figure size 1008x720 with 1 Axes>"
      ]
     },
     "metadata": {
      "needs_background": "light"
     },
     "output_type": "display_data"
    }
   ],
   "source": [
    "vis_token_counts(lengths)"
   ]
  },
  {
   "cell_type": "markdown",
   "id": "yellow-isaac",
   "metadata": {},
   "source": [
    " * Looks like most sentences are below 100 tokens. Let's be safe and set max length to a little bit more than our outlier (around 175) to 180 tokens "
   ]
  },
  {
   "cell_type": "code",
   "execution_count": 6,
   "id": "binding-ocean",
   "metadata": {},
   "outputs": [
    {
     "name": "stdout",
     "output_type": "stream",
     "text": [
      "180\n"
     ]
    }
   ],
   "source": [
    "print(config[\"tokenizer\"][\"MAX_LEN\"])"
   ]
  },
  {
   "cell_type": "markdown",
   "id": "vital-steel",
   "metadata": {},
   "source": [
    "# Checking how many UNK tokens we have\n",
    "\n",
    "* Out of curiousity, let's check how many unkown tokens we have (no vocab mapping and can't split into word pieces)\n",
    "* High amount of UNK tokens may let us want to rethink if we would like to select another tokenization/model approach\n",
    "* We will be ignoring all data from test set in order to remain as unbiased as we can"
   ]
  },
  {
   "cell_type": "code",
   "execution_count": 7,
   "id": "excess-luxury",
   "metadata": {},
   "outputs": [
    {
     "name": "stdout",
     "output_type": "stream",
     "text": [
      "100\n"
     ]
    }
   ],
   "source": [
    "print(tokenizer.unk_token_id)"
   ]
  },
  {
   "cell_type": "code",
   "execution_count": 8,
   "id": "emerging-convert",
   "metadata": {},
   "outputs": [
    {
     "name": "stdout",
     "output_type": "stream",
     "text": [
      "0\n"
     ]
    }
   ],
   "source": [
    "n_unk = []\n",
    "for sent in tokenized_sentences:\n",
    "    unk_cnt = 0\n",
    "    for token in sent:\n",
    "        if token == tokenizer.unk_token_id: unk_cnt += 1\n",
    "    n_unk.append(unk_cnt)  \n",
    "print(sum(n_unk))"
   ]
  },
  {
   "cell_type": "markdown",
   "id": "limiting-victoria",
   "metadata": {},
   "source": [
    "* Hmm, sounds a bit too good to be true lol\n",
    "* Well, for the sake of time, let's just assume that this is corret, but I would look a little bit more in-depth into this"
   ]
  },
  {
   "cell_type": "markdown",
   "id": "perfect-blade",
   "metadata": {},
   "source": [
    "# Checking target token distribution"
   ]
  },
  {
   "cell_type": "code",
   "execution_count": 9,
   "id": "advance-vegetarian",
   "metadata": {},
   "outputs": [
    {
     "name": "stdout",
     "output_type": "stream",
     "text": [
      "LABEL: O | COUNT: 168538 | RATIO: 0.9183\n",
      "LABEL: B | COUNT: 6704 | RATIO: 0.0365\n",
      "LABEL: I | COUNT: 8291 | RATIO: 0.0452\n"
     ]
    }
   ],
   "source": [
    "encoder = joblib.load(\"../data/label_encoder.bin\")\n",
    "cnts = defaultdict(lambda  : 0)\n",
    "\n",
    "for sent_targets in y:\n",
    "    for s_t in sent_targets:\n",
    "        cnts[s_t] += 1\n",
    "\n",
    "total = sum(cnts.values()) \n",
    "for k, v in cnts.items():\n",
    "    print(f\"LABEL: {encoder.inverse_transform([k])[0]} | COUNT: {v} | RATIO: {(v/ total):.4f}\" )  "
   ]
  },
  {
   "cell_type": "markdown",
   "id": "genetic-university",
   "metadata": {},
   "source": [
    "* As expected, most tags are tagged with no entity tag\n",
    "* Since we will be using cross-entropy loss, this may cause some problems as loss may be biased towards majority class (I can't recall whether something in bert architecture or AdamW optimizer adjusts for that)\n",
    "* However, I did a little exploring at seems that everybody I looked at, including kaggle grandmasters just use standard torches nn.CrossEntropy loss, so I'll just follow their lead :D\n",
    "* We would try to adjust weights, since torches cross entropy can take in class weights to pay more/less attention to specific classes, but for now let's leave it as it is and see how we do"
   ]
  },
  {
   "cell_type": "markdown",
   "id": "neural-louis",
   "metadata": {},
   "source": [
    "# Checking for dublicates\n",
    "\n",
    "* The dataset was taken from the authors of [this](https://arxiv.org/pdf/1901.08746v4.pdf) paper, and they claim that the dublicates have been removed.\n",
    "* Normally, this is a rather important step and should be performed in most scenarios: we can do a lot of stuff here from simple levenstein distance comparisons, cosine distances between tokens etc. to something more complex like measuring distances between embedded samples, while also adjusting for loss of information by introducing and additional static embedding which will not change while maintaining static embeddings, something similar to what one could see for CNN text classifiers. Well, something like that :D\n",
    "* we could also think of various techniques to undersample, oversample etc., but will have to figure out what these terms mean for this problem :D"
   ]
  }
 ],
 "metadata": {
  "kernelspec": {
   "display_name": "Python 3",
   "language": "python",
   "name": "python3"
  },
  "language_info": {
   "codemirror_mode": {
    "name": "ipython",
    "version": 3
   },
   "file_extension": ".py",
   "mimetype": "text/x-python",
   "name": "python",
   "nbconvert_exporter": "python",
   "pygments_lexer": "ipython3",
   "version": "3.8.6"
  }
 },
 "nbformat": 4,
 "nbformat_minor": 5
}
