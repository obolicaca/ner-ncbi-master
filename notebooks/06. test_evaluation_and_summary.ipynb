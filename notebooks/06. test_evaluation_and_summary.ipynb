{
 "cells": [
  {
   "cell_type": "code",
   "execution_count": 1,
   "id": "virtual-allen",
   "metadata": {},
   "outputs": [],
   "source": [
    "%load_ext autoreload\n",
    "%autoreload 2\n",
    "import sys; sys.path.insert(0, \"..\")"
   ]
  },
  {
   "cell_type": "markdown",
   "id": "surface-yeast",
   "metadata": {},
   "source": [
    "# Evaluation on the test set and summary\n",
    "\n",
    "* Here we will eveluate how our model performs on unseen \"real world\" data by checking its performance against the test set\n",
    "* We will also look how our model compares to bigger and SOTA models\n",
    "* Lastly we shall provide a small summary and discuss on various potential improvements\n",
    "* Also, it's getting quite late so apologies for this spagetio code :D"
   ]
  },
  {
   "cell_type": "markdown",
   "id": "isolated-transsexual",
   "metadata": {},
   "source": [
    "# Test.tsv evaluation"
   ]
  },
  {
   "cell_type": "code",
   "execution_count": 2,
   "id": "interracial-metro",
   "metadata": {},
   "outputs": [],
   "source": [
    "import joblib\n",
    "import torch\n",
    "from torch.utils.data import DataLoader\n",
    "import numpy as np\n",
    "from core.model import NER\n",
    "from core.dataset import NCBIDataset\n",
    "from core.config import config"
   ]
  },
  {
   "cell_type": "code",
   "execution_count": 5,
   "id": "varying-champagne",
   "metadata": {},
   "outputs": [
    {
     "name": "stdout",
     "output_type": "stream",
     "text": [
      "\n"
     ]
    }
   ],
   "source": [
    "device = torch.device(\"cuda\" if torch.cuda.is_available() else \"cpu\")\n",
    "my_model = NER(3)\n",
    "my_model.load_state_dict(torch.load(\"../data/model.bin\"))\n",
    "my_model.to(device)\n",
    "my_model.eval()\n",
    "print()"
   ]
  },
  {
   "cell_type": "code",
   "execution_count": 6,
   "id": "genuine-olympus",
   "metadata": {},
   "outputs": [],
   "source": [
    "tmp = NCBIDataset(*joblib.load(\"../data/proc/test.bin\"))\n",
    "tmp_dl = DataLoader(tmp, batch_size = 1, num_workers = 1) "
   ]
  },
  {
   "cell_type": "code",
   "execution_count": 7,
   "id": "measured-pressing",
   "metadata": {},
   "outputs": [],
   "source": [
    "true_texts = tmp.texts\n",
    "true_ids = []\n",
    "true_y_true = []\n",
    "true_y_hat = []  \n",
    "with torch.no_grad():\n",
    "    for data in tmp_dl:  \n",
    "        for k, v in data.items():  data[k] = v.to(device) \n",
    "        out, loss = my_model(data)\n",
    "       \n",
    "        mask_1 = data[\"attention_mask\"] == 1\n",
    "        mask_2 = data[\"targets\"] != -100\n",
    "        \n",
    "        true_ids.append(data[\"input_ids\"][mask_1 * mask_2].cpu().numpy()) \n",
    "        true_y_true.append(data[\"targets\"][mask_1 * mask_2].cpu().numpy())\n",
    "        true_y_hat.append(out[mask_1 * mask_2].cpu().numpy())    "
   ]
  },
  {
   "cell_type": "code",
   "execution_count": 8,
   "id": "palestinian-attitude",
   "metadata": {},
   "outputs": [],
   "source": [
    "assert len(true_texts) == len(true_ids) ==len(true_y_true) ==  len(true_y_hat)"
   ]
  },
  {
   "cell_type": "markdown",
   "id": "neither-canberra",
   "metadata": {},
   "source": [
    "* Unfortunately, I did not find an \"agreed\" method upon which word piece predictions are combined to get label of main word \n",
    "* However, the target of task is to predict label of the word, not its subwords, so as long as we do that anything is fair game.\n",
    "* So what we will do is take the mean of word pieces logits and assign the label with the highest mean logit "
   ]
  },
  {
   "cell_type": "code",
   "execution_count": 9,
   "id": "acceptable-notebook",
   "metadata": {},
   "outputs": [],
   "source": [
    "def is_piece(x:str): return x[:2] == \"##\" \n",
    "def is_full(x:str): return not is_piece(x) \n",
    "\n",
    "\n",
    "predictions = []\n",
    "\n",
    "tok = config[\"tokenizer\"][\"TOKENIZER\"]\n",
    "for text, ids, y, y_hat in zip(true_texts, true_ids, true_y_true, true_y_hat): \n",
    "    text_t = tok.tokenize(\" \".join(text)) + [\"XXX\"]\n",
    "    assert len(text_t) - 1 == len(ids) == len(y) == len(y_hat)\n",
    "   \n",
    "    idx = 0 \n",
    "    original_targets = [None for _ in range(len(text))] \n",
    "    pooled = []\n",
    "    for i in range(len(text)):\n",
    "        \n",
    "        if is_full(text_t[idx]) and is_full(text_t[idx +1]): \n",
    "            original_targets[i] = np.argmax(y_hat[idx])\n",
    "            idx += 1\n",
    "            \n",
    "        elif is_full(text_t[idx]) and is_piece(text_t[idx +1]):\n",
    "            pooled.append(y_hat[idx])\n",
    "            idx += 1 \n",
    "            while is_piece(text_t[idx]): \n",
    "                pooled.append(y_hat[idx])\n",
    "                idx += 1\n",
    "                \n",
    "            original_targets[i] = np.argmax(np.mean(np.array(pooled), axis=0))\n",
    "            pooled = []\n",
    "            \n",
    "        elif is_piece(text_t[idx]):\n",
    "            pooled.append(y_hat[idx])\n",
    "            idx += 1 \n",
    "            while is_piece(text[idx]):\n",
    "                pooled.append(y_hat[idx])\n",
    "                idx += 1\n",
    "           \n",
    "            # add master after piece prefixes \n",
    "            pooled.append(y_hat[idx])\n",
    "            idx += 1\n",
    "            while is_piece(text_t[idx]):\n",
    "                pooled.appen(y_hat[idx])\n",
    "                idx += 1\n",
    "            original_targets[i] = np.argmax(np.mean(np.array(pooled), axis=0))\n",
    "            pooled = []               \n",
    "    \n",
    "    predictions.append(original_targets)  "
   ]
  },
  {
   "cell_type": "code",
   "execution_count": 10,
   "id": "stylish-description",
   "metadata": {},
   "outputs": [
    {
     "name": "stdout",
     "output_type": "stream",
     "text": [
      "939 939\n"
     ]
    }
   ],
   "source": [
    "targets = tmp.tags\n",
    "assert len(targets) == len(predictions)\n",
    "assert sum(len(i) for i in targets) == sum(len(i) for i in predictions)\n",
    "print(len(targets), len(predictions))  "
   ]
  },
  {
   "cell_type": "code",
   "execution_count": 11,
   "id": "worthy-monitor",
   "metadata": {},
   "outputs": [],
   "source": [
    "from sklearn.metrics import confusion_matrix, classification_report\n",
    "encoder = joblib.load(\"../data/label_encoder.bin\")"
   ]
  },
  {
   "cell_type": "code",
   "execution_count": 12,
   "id": "sensitive-structure",
   "metadata": {},
   "outputs": [],
   "source": [
    "from itertools import chain"
   ]
  },
  {
   "cell_type": "code",
   "execution_count": 13,
   "id": "monetary-landing",
   "metadata": {},
   "outputs": [],
   "source": [
    "_targets = list(chain(*targets))\n",
    "_predictions = list(chain(*predictions))\n",
    "assert len(_targets) == len(_predictions)"
   ]
  },
  {
   "cell_type": "code",
   "execution_count": 15,
   "id": "documentary-combining",
   "metadata": {},
   "outputs": [
    {
     "name": "stdout",
     "output_type": "stream",
     "text": [
      "              precision    recall  f1-score   support\n",
      "\n",
      "           B       0.83      0.84      0.84       960\n",
      "           I       0.84      0.89      0.87      1087\n",
      "           O       0.99      0.99      0.99     22441\n",
      "\n",
      "    accuracy                           0.98     24488\n",
      "   macro avg       0.89      0.91      0.90     24488\n",
      "weighted avg       0.98      0.98      0.98     24488\n",
      "\n"
     ]
    }
   ],
   "source": [
    "print(classification_report(_targets, _predictions, target_names=encoder.classes_))"
   ]
  },
  {
   "cell_type": "code",
   "execution_count": 22,
   "id": "scenic-drill",
   "metadata": {},
   "outputs": [
    {
     "data": {
      "image/png": "[encoded data removed]",
      "text/plain": [
       "<Figure size 720x720 with 2 Axes>"
      ]
     },
     "metadata": {
      "needs_background": "light"
     },
     "output_type": "display_data"
    }
   ],
   "source": [
    "import seaborn as sns\n",
    "import matplotlib.pyplot as plt\n",
    "import pandas as pd\n",
    "%matplotlib inline\n",
    "\n",
    "cm = pd.DataFrame(confusion_matrix(_targets, _predictions), index = encoder.classes_, columns = encoder.classes_)\n",
    "plt.figure(figsize=(10,10))\n",
    "hmap = sns.heatmap(cm, annot=True, fmt=\"d\", cmap=\"Blues\")  \n",
    "hmap.yaxis.set_ticklabels(hmap.yaxis.get_ticklabels(), rotation=0, ha='right')\n",
    "hmap.xaxis.set_ticklabels(hmap.xaxis.get_ticklabels(), rotation=30, ha='right')\n",
    "plt.ylabel('True tag')\n",
    "plt.xlabel('Predicted tag');\n",
    "plt.show()"
   ]
  },
  {
   "cell_type": "markdown",
   "id": "adolescent-clark",
   "metadata": {},
   "source": [
    "---"
   ]
  },
  {
   "cell_type": "markdown",
   "id": "grand-growth",
   "metadata": {},
   "source": [
    " Well... the only thing that I don't like more than model not performing is when results are <b> TOO GOOD </b> to be true. Looks like that I would be in it for a huge debugging session, but it would take a bit too long to pin point the exact problems with the pipeline. However, I shall provide my hypotheis on what could be happening:\n",
    " \n",
    "* We got extremely lucky and managed to capture the patterns in the test set due to our fold being very favorable towards the test test <b> HIGHLY UNLIKELY </b> \n",
    "* By using few modifications we managed to create a new state of art model by using a much smaller transfer model and I to be hailed as a new hero of NLP <b> EXTREMELY UNLIKELY </b>\n",
    "* Our pooling process provided additional improvement. But why would other authors not use something like this, I highly doubt that they would not do anything they could do chase that sweeet f1 score <b> EXTREMELY UNLIKELY </b>\n",
    "* There is a bug splitting the test set. Maybe some dublicates are present in test and training set <b> QUITE LIKELY </b>\n",
    "* There is some other bug in the code <b> PROBABILITY so high that modern computers would not be able to store it as a floating point representation, even with additional swaps to storage </b>"
   ]
  },
  {
   "cell_type": "markdown",
   "id": "unlike-tissue",
   "metadata": {},
   "source": [
    "# Summary\n",
    "\n",
    "We tried to make a model for predicting diseases for NCBI disease dataset. We downloaded the data, cleaned it up, explored it to select best parameters, split the data into folds, trained the model, optimized it with regards to hyperparameters and did k-folding to achieve higher generalization.\n",
    "\n",
    "Here is a list of potential improvements that come from the top of my mind:\n",
    "* Add some cool augmentation techniques for our training set\n",
    "* Pick some bigger models like bert,xlnet, albert, roberta ... what have you, and see how they do\n",
    "* Spend additional time looking at data to ensure its validity and clean up stuff\n",
    "* Do multi-task learning. If we can get part of speech (POS) tags we could also train our model for that to potentially further improve it\n",
    "* Make loss function mind more attention to diseases. May not be relevant here, but if we, say, have a person and he tells that he has disease X, we would definitely want to catch that so we don't perscribe wrong medicine, and we are okay with getting more misses in favor towards that\n",
    "* Pre-train the transfer model with domain specific language, as it has been done in [biobert](https://arxiv.org/abs/1901.08746)"
   ]
  }
 ],
 "metadata": {
  "kernelspec": {
   "display_name": "Python 3",
   "language": "python",
   "name": "python3"
  },
  "language_info": {
   "codemirror_mode": {
    "name": "ipython",
    "version": 3
   },
   "file_extension": ".py",
   "mimetype": "text/x-python",
   "name": "python",
   "nbconvert_exporter": "python",
   "pygments_lexer": "ipython3",
   "version": "3.8.6"
  }
 },
 "nbformat": 4,
 "nbformat_minor": 5
}
